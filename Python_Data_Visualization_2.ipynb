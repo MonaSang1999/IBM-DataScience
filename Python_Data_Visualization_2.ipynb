{
  "cells": [
    {
      "cell_type": "markdown",
      "metadata": {
        "id": "Wmh7GRm6c2T7"
      },
      "source": [
        "# **Data Visualization**\n",
        "\n",
        "**Types of plots**\n",
        "* Line Plot\n",
        "  * Display trends over time\n",
        "  * Compare datasets with a continuous independent variable\n",
        "  * Illustrate cause-and-effect relationships\n",
        "  * Visualize continous data\n",
        "  * Misleading if the scales on the axes are not carefully chosen to reflect the data accurately\n",
        "* Bar Plot\n",
        "  * Represent the magnitude of the data\n",
        "  * Compare different categories or groups\n",
        "  * Display discrete data that has distinct categories\n",
        "  * Show how different categories contribute the a whole\n",
        "  * Easily ranked or ordered\n",
        "  * Misleading if inaccurate bar choices / axis scales are choosen\n",
        "* Scatter Plot\n",
        "  * Examine the relationship between two continuous variables\n",
        "  * Investigate patterns or trends\n",
        "  * Detect outliers or unusual observations\n",
        "  * Identify clusters or groups\n",
        "* Box Plot\n",
        "  * Distribution of key statistics\n",
        "  * Compare the distribution of a continous variable across different categories or groups\n",
        "  * Examine spread and skewness of a dataset, visualizing quartiles\n",
        "  * Identify and analyze potential outliers\n",
        "  * Visualize summary statistics\n",
        "  * Ignoring or mishandling outliers, can distort the interpretation of the data and mask important insights\n",
        "* Histogram\n",
        "  * Depict the shape & concentration of the data, whether it's symmetric skewed or bimodal.\n",
        "  * Showcase data variability, allowing you to observe concentrations, gaps and clusters that reveal patterns or subgroups.\n",
        "  * Binning affect the representation of data\n",
        "\n",
        "**Plot Library**\n",
        "\n",
        "* Matplotlib\n",
        "  * line plots, scatter plots, bar charts, histograms, pie charts, box plots, and heat maps\n",
        "* Pandas\n",
        "* Seaborn\n",
        "  * specialized statistical visualizations\n",
        "  * categorical plots, count plots, heat maps, violin plots, scatter plots, bar plots\n",
        "* Folium\n",
        "  * Geospatial visualiztion\n",
        "* Plotly\n",
        "  * Highly interactive plots and dashboards\n",
        "  * Web-based\n",
        "* PyWaffle\n",
        "  * Categorical data using waffle charts\n",
        "  * waffle charts, square pie charts, donut charts"
      ]
    },
    {
      "cell_type": "code",
      "execution_count": null,
      "metadata": {},
      "outputs": [],
      "source": [
        "import pandas as pd\n",
        "df_can = pd.read_csv('https://cf-courses-data.s3.us.cloud-object-storage.appdomain.cloud/IBMDeveloperSkillsNetwork-DV0101EN-SkillsNetwork/Data%20Files/Canada.csv')"
      ]
    },
    {
      "cell_type": "code",
      "execution_count": 55,
      "metadata": {
        "id": "KqDtn_LDHjxH"
      },
      "outputs": [],
      "source": [
        "#set index and remove the name\n",
        "df_can.set_index('Country', inplace=True)\n",
        "df_can.index.name = None"
      ]
    },
    {
      "cell_type": "code",
      "execution_count": null,
      "metadata": {
        "colab": {
          "base_uri": "https://localhost:8080/",
          "height": 342
        },
        "id": "xlmc2lmtIH5d",
        "outputId": "76fe6041-561e-4c22-ca67-14054d978a07"
      },
      "outputs": [],
      "source": [
        "df_can.head()"
      ]
    },
    {
      "cell_type": "markdown",
      "metadata": {
        "id": "HdnvT2-wlH2u"
      },
      "source": [
        "# **Maps & Geospatial Data**\n",
        "\n",
        "* Folium: visualize geospatial data and create map using latitude and longitude values\n"
      ]
    },
    {
      "cell_type": "code",
      "execution_count": null,
      "metadata": {
        "colab": {
          "base_uri": "https://localhost:8080/",
          "height": 698
        },
        "id": "gvcm-76qlj7S",
        "outputId": "296cbd56-e8ec-4337-cd6e-0985bf51465f"
      },
      "outputs": [],
      "source": [
        "import folium\n",
        "world_map = folium.Map()\n",
        "world_map"
      ]
    },
    {
      "cell_type": "code",
      "execution_count": null,
      "metadata": {
        "colab": {
          "base_uri": "https://localhost:8080/",
          "height": 698
        },
        "id": "NvxF_lTrltTd",
        "outputId": "7c4a85ab-90d6-46af-8b76-18bcb81baf55"
      },
      "outputs": [],
      "source": [
        "# define the world map centered around Canada with a low zoom level\n",
        "world_map = folium.Map(location=[56.130, -106.35], zoom_start=4)\n",
        "\n",
        "#add custom tiles\n",
        "folium.TileLayer(\n",
        "    tiles='https://server.arcgisonline.com/ArcGIS/rest/services/World_Imagery/MapServer/tile/{z}/{y}/{x}',\n",
        "    attr='Tiles &copy; Esri — Source: Esri, DeLorme, NAVTEQ, USGS, and the GIS User Community',\n",
        "    name='ESRI World Imagery',\n",
        "    max_zoom=20\n",
        ").add_to(world_map)\n",
        "folium.LayerControl().add_to(world_map)\n",
        "\n",
        "world_map"
      ]
    },
    {
      "cell_type": "code",
      "execution_count": null,
      "metadata": {
        "colab": {
          "base_uri": "https://localhost:8080/",
          "height": 698
        },
        "id": "X0Qdd4IIl6Lo",
        "outputId": "a57765e8-dc7e-43ba-b9f7-ffd90f755c5d"
      },
      "outputs": [],
      "source": [
        "#Add marker and label\n",
        "Canada_map = folium.Map(location=[56.130, -106.35], zoom_start=4)\n",
        "\n",
        "folium.Marker(location=[51.2538, -85.3232], popup='Ontario').add_to(Canada_map)\n",
        "\n",
        "ontario = folium.map.FeatureGroup()  #add a red marker using feature group\n",
        "ontario.add_child(\n",
        "    folium.features.CircleMarker(\n",
        "        [51.2538, -85.3232],\n",
        "        radius=5,  #how big you want the circle marker to be\n",
        "        color='red',\n",
        "        fill_color='red'\n",
        "    )\n",
        ")\n",
        "Canada_map.add_child(ontario)\n",
        "\n",
        "\n",
        "Canada_map"
      ]
    },
    {
      "cell_type": "code",
      "execution_count": null,
      "metadata": {
        "colab": {
          "base_uri": "https://localhost:8080/",
          "height": 698
        },
        "id": "MYIDbxCropsr",
        "outputId": "d7667e75-b1b1-4c42-cca0-98bcb11af791"
      },
      "outputs": [],
      "source": [
        "#add multiple markers\n",
        "locations = [\n",
        "    {\"location\": [45.4215, -75.6989], \"popup\": \"Ottawa\"},\n",
        "    {\"location\": [53.5461, -113.4938], \"popup\": \"Edmonton\"},\n",
        "    {\"location\": [49.2827, -123.1207], \"popup\": \"Vancouver\"},\n",
        "]\n",
        "\n",
        "# Marker Cluster: prevent overcrowding\n",
        "from folium.plugins import MarkerCluster\n",
        "\n",
        "marker_cluster = MarkerCluster().add_to(Canada_map)\n",
        "\n",
        "for loc in locations:\n",
        "  folium.Marker(location = loc[\"location\"],\n",
        "                popup=loc[\"popup\"]).add_to(marker_cluster)\n",
        "Canada_map"
      ]
    },
    {
      "cell_type": "markdown",
      "metadata": {
        "id": "n61eDRV4rbt3"
      },
      "source": [
        "**Choropleth Maps**\n",
        "* A choropleth map is a thematic map in which areas are shaded or patterned in proportion to the measurement of the statistical variable displayed on the map.\n",
        "* The higher the measurement, the darker the color.\n",
        "\n",
        "1. `geo_data`, which is the GeoJSON file.\n",
        "2. `data`, which is the dataframe containing the data.\n",
        "3. `columns`, which represents the columns in the dataframe that will be used to create the `Choropleth` map.\n",
        "4. `key_on`, which is the key or variable in the GeoJSON file that contains the name of the variable of interest. To determine that, you will need to open the GeoJSON file using any text editor and note the name of the key or variable that contains the name of the countries, since the countries are our variable of interest. In this case, **name** is the key in the GeoJSON file that contains the name of the countries. Note that this key is case_sensitive, so you need to pass exactly as it exists in the GeoJSON file."
      ]
    },
    {
      "cell_type": "code",
      "execution_count": null,
      "metadata": {
        "colab": {
          "base_uri": "https://localhost:8080/"
        },
        "id": "JqQj44mPpCG_",
        "outputId": "c199abe3-5536-4231-b8c8-1bc3fcbf15d9"
      },
      "outputs": [],
      "source": [
        "# download countries geojson file\n",
        "! wget --quiet https://cf-courses-data.s3.us.cloud-object-storage.appdomain.cloud/IBMDeveloperSkillsNetwork-DV0101EN-SkillsNetwork/Data%20Files/world_countries.json\n",
        "\n",
        "print('GeoJSON file downloaded!')"
      ]
    },
    {
      "cell_type": "code",
      "execution_count": 68,
      "metadata": {
        "id": "XIL_jPy8r2Qx"
      },
      "outputs": [],
      "source": [
        "world_geo = r'https://cf-courses-data.s3.us.cloud-object-storage.appdomain.cloud/IBMDeveloperSkillsNetwork-DV0101EN-SkillsNetwork/Data%20Files/world_countries.json' # geojson file\n",
        "\n",
        "# create a plain world map\n",
        "world_map = folium.Map(location=[0, 0], zoom_start=2)"
      ]
    },
    {
      "cell_type": "code",
      "execution_count": null,
      "metadata": {
        "colab": {
          "base_uri": "https://localhost:8080/",
          "height": 698
        },
        "id": "GXOw4rxMr3p5",
        "outputId": "cb78a918-937d-402d-9e9c-3c665dddffa4"
      },
      "outputs": [],
      "source": [
        "folium.Choropleth(\n",
        "    geo_data=world_geo,\n",
        "    data=df_can,\n",
        "    columns=['Country', 'Total'],\n",
        "    key_on='feature.properties.name',\n",
        "    fill_color='YlOrRd',\n",
        "    fill_opacity=0.7,\n",
        "    line_opacity=0.2,\n",
        "    legend_name='Immigration to Canada',\n",
        "    reset=True\n",
        ").add_to(world_map)\n",
        "\n",
        "# display map\n",
        "world_map"
      ]
    },
    {
      "cell_type": "markdown",
      "metadata": {
        "id": "ppjVs2MSqHul"
      },
      "source": [
        "# **Interactive Dashboard**\n",
        "\n",
        "* Real-time visuals simplify business moving parts\n",
        "* Display KPI\n",
        "* Provide big picture\n",
        "\n",
        "**Web-based dashboarding tool**\n",
        "* Plotly: interactive, open-source, supports over 40 unique chart types; available in Python and Javascript; can be displayed in Jupiter Notebook, saved to standalone HTML files, or served as part of pure Python build web applications using dash.\n",
        "  * Plotly Graph Objects: low-level interface to figures, traces, and layout\n",
        "  * Plotly Express: High-level wrapper\n",
        "  * https://plotly.com/python/\n",
        "* Panel\n",
        "* Viola\n",
        "* Streamlit\n",
        "* Bokeh\n",
        "* ipywidgets\n",
        "* matplotlib\n",
        "* Bowtie\n",
        "* Flask\n",
        "\n",
        "Python dashboarding tool: https://pyviz.org/dashboarding/\n",
        "\n",
        "John Snow's data journalism: https://www.theguardian.com/news/datablog/2013/mar/15/john-snow-cholera-map"
      ]
    },
    {
      "cell_type": "code",
      "execution_count": 72,
      "metadata": {
        "id": "QLCxTOoAr5QR"
      },
      "outputs": [],
      "source": [
        "import plotly.express as px\n",
        "import plotly.graph_objects as go\n",
        "\n",
        "age_array=np.random.randint(25,55,60)\n",
        "income_array=np.random.randint(300000,700000,3000000)"
      ]
    },
    {
      "cell_type": "code",
      "execution_count": null,
      "metadata": {
        "colab": {
          "base_uri": "https://localhost:8080/",
          "height": 542
        },
        "id": "zME8L7UMsDSm",
        "outputId": "05b9d01d-54ee-4243-cd01-27a3fb454615"
      },
      "outputs": [],
      "source": [
        "##First we will create an empty figure using go.Figure()\n",
        "fig=go.Figure() #go is JSON object\n",
        "fig"
      ]
    },
    {
      "cell_type": "code",
      "execution_count": null,
      "metadata": {
        "colab": {
          "base_uri": "https://localhost:8080/",
          "height": 542
        },
        "id": "jxyIlzsysrF7",
        "outputId": "36f4cbae-8127-4c00-86ec-b669b498dda1"
      },
      "outputs": [],
      "source": [
        "#Next we will create a scatter plot by using the add_trace function and use the go.scatter() function within it\n",
        "# In go.Scatter we define the x-axis data,y-axis data and define the mode as markers with color of the marker as blue\n",
        "fig.add_trace(go.Scatter(x=age_array, y=income_array, mode='markers', marker=dict(color='blue')))"
      ]
    },
    {
      "cell_type": "code",
      "execution_count": null,
      "metadata": {
        "colab": {
          "base_uri": "https://localhost:8080/",
          "height": 542
        },
        "id": "CDli5uu9sskx",
        "outputId": "0715cec7-eef6-4e92-e6f3-6f3149fdf80a"
      },
      "outputs": [],
      "source": [
        "## Here we update these values under function attributes such as title,xaxis_title and yaxis_title\n",
        "fig.update_layout(title='Economic Survey', xaxis_title='Age', yaxis_title='Income')\n",
        "# Display the figure\n",
        "fig.show()"
      ]
    },
    {
      "cell_type": "code",
      "execution_count": null,
      "metadata": {
        "colab": {
          "base_uri": "https://localhost:8080/",
          "height": 542
        },
        "id": "YphiRlvPswSW",
        "outputId": "7eb3a9af-7c63-44ac-dafc-b3eba11840d4"
      },
      "outputs": [],
      "source": [
        "# create line chart\n",
        "numberofbicyclessold_array=[50,100,40,150,160,70,60,45]\n",
        "months_array=[\"Jan\",\"Feb\",\"Mar\",\"April\",\"May\",\"June\",\"July\",\"August\"]\n",
        "\n",
        "fig_line=go.Figure()\n",
        "fig_line.add_trace(go.Scatter(x=months_array, y=numberofbicyclessold_array, mode='lines', marker=dict(color='green')))\n",
        "fig_line.update_layout(title='Bicycle Sales', xaxis_title='Months', yaxis_title='Number of Bicycles Sold')\n",
        "fig_line.show()"
      ]
    },
    {
      "cell_type": "code",
      "execution_count": null,
      "metadata": {
        "colab": {
          "base_uri": "https://localhost:8080/",
          "height": 542
        },
        "id": "pY8lyCxytK1-",
        "outputId": "43cf16ad-06e3-4cd4-ba4f-d1cd8818c43c"
      },
      "outputs": [],
      "source": [
        "score_array=[80,90,56,88,95]\n",
        "grade_array=['Grade 6','Grade 7','Grade 8','Grade 9','Grade 10']\n",
        "fig = px.bar( x=grade_array, y=score_array, title='Pass Percentage of Classes')\n",
        "fig.show()"
      ]
    },
    {
      "cell_type": "code",
      "execution_count": null,
      "metadata": {
        "colab": {
          "base_uri": "https://localhost:8080/",
          "height": 542
        },
        "id": "XNdjKC8LtxkI",
        "outputId": "51cd870d-6bb5-47a7-9bc7-8d14c18a378b"
      },
      "outputs": [],
      "source": [
        "heights_array = np.random.normal(160, 11, 200)\n",
        "## Use plotly express histogram chart function px.histogram.Provide input data x to the histogram\n",
        "fig = px.histogram(x=heights_array,title=\"Distribution of Heights\")\n",
        "fig.show()"
      ]
    },
    {
      "cell_type": "code",
      "execution_count": null,
      "metadata": {
        "colab": {
          "base_uri": "https://localhost:8080/",
          "height": 542
        },
        "id": "wBlNo8Rmt3DP",
        "outputId": "5cba770f-6e36-4f56-a4b9-ae29049babd2"
      },
      "outputs": [],
      "source": [
        "exp_percent= [20, 50, 10,8,12]\n",
        "house_holdcategories = ['Grocery', 'Rent', 'School Fees','Transport','Savings']\n",
        "fig = px.pie(values=exp_percent, names=house_holdcategories, title='Household Expenditure')\n",
        "fig.show()"
      ]
    },
    {
      "cell_type": "code",
      "execution_count": null,
      "metadata": {
        "colab": {
          "base_uri": "https://localhost:8080/",
          "height": 542
        },
        "id": "DbRMwxuTuH8F",
        "outputId": "65e830ad-95e6-49c9-bfcb-25fdb27afc67"
      },
      "outputs": [],
      "source": [
        "data = dict(\n",
        "    character=[\"Eve\", \"Cain\", \"Seth\", \"Enos\", \"Noam\", \"Abel\", \"Awan\", \"Enoch\", \"Azura\"],\n",
        "    parent=[\"\", \"Eve\", \"Eve\", \"Seth\", \"Seth\", \"Eve\", \"Eve\", \"Awan\", \"Eve\" ],\n",
        "    value=[10, 14, 12, 10, 2, 6, 6, 4, 4])\n",
        "\n",
        "fig = px.sunburst(\n",
        "    data,\n",
        "    names='character',\n",
        "    parents='parent',\n",
        "    values='value',\n",
        "    title=\"Family chart\"\n",
        ")\n",
        "fig.show()"
      ]
    },
    {
      "cell_type": "markdown",
      "metadata": {
        "id": "0MVtml4c2-Pn"
      },
      "source": [
        "# **Dash**\n",
        "\n",
        "* Open source User Interface python library from Plotly\n",
        "* Dash's front end renders components using React.js.\n",
        "* Easy to build GUI\n",
        "* Declarative and Reactive\n",
        "* Rendered in web browser and can be deployed to servers\n",
        "* Inherently cross-platform and mobile ready\n",
        "\n",
        "**Dash Component**\n",
        "* Core Component\n",
        "  * Describe higher-level interactive components generated with JavaScript, HTML, and CSS through the React.js library\n",
        "  * import dash_core_components as dcc\n",
        "  * Example: creating a slider, input area, check items, and date picker\n",
        "* HTML Component\n",
        "  * Has Components for every HTML tag\n",
        "  * The dash_HTML_components library provides classes for all HTML tags and the keyword arguments describe the HTML attributes like style, class name, and ID.\n",
        "  * import dash_html_components as html\n",
        "\n",
        "User Guide: https://dash.plotly.com/\n",
        "\n",
        "**Connect Core and HTML components using Callbacks**\n",
        "\n",
        "* Callback function is a python function that is automatically called by Dash\n",
        "\n",
        "    def callback_function:\n",
        "          ...\n",
        "          ...\n",
        "      return some_result\n",
        "\n",
        "    @app.callback(Output, Input)\n",
        "\n",
        "* The @app.callback decorator decorates the callback function in order to tell Dash to call it. Whenever there's a change in the input component value.\n",
        "\n",
        "Python decorators reference: https://realpython.com/primer-on-python-decorators/\n",
        "\n",
        "Callback examples: https://dash.plotly.com/basic-callbacks\n",
        "\n",
        "Gallery: https://dash.gallery/Portal/"
      ]
    },
    {
      "cell_type": "code",
      "execution_count": null,
      "metadata": {
        "id": "qajt05OOuLcb"
      },
      "outputs": [],
      "source": [
        "import pandas as pd\n",
        "import plotly.express as px\n",
        "import dash\n",
        "from dash import dcc\n",
        "from dash import html\n",
        "from dash.dependencies import Input, Output\n",
        "\n",
        "# Read the airline data into pandas dataframe\n",
        "airline_data =  pd.read_csv('https://cf-courses-data.s3.us.cloud-object-storage.appdomain.cloud/IBMDeveloperSkillsNetwork-DV0101EN-SkillsNetwork/Data%20Files/airline_data.csv',\n",
        "                            encoding = \"ISO-8859-1\",\n",
        "                            dtype={'Div1Airport': str, 'Div1TailNum': str,\n",
        "                                   'Div2Airport': str, 'Div2TailNum': str})\n",
        "# Randomly sample 500 data points. Setting the random state to be 42 so that we get same result.\n",
        "#data = airline_data.sample(n=500, random_state=42)\n",
        "# Pie Chart Creation\n",
        "#fig = px.pie(data, values='Flights', names='DistanceGroup', title='Distance group proportion by flights')\n",
        "\n",
        "# Create a dash application\n",
        "app = dash.Dash(__name__)\n",
        "\n",
        "# Design the dash layout\n",
        "# Create an outer division using html.Div and add title to the dashboard using html.H1 component\n",
        "# Add description about the graph using HTML P (paragraph) component\n",
        "# Finally, add graph component.\n",
        "app.layout = html.Div(children=[html.H1('Airline Dashboard',style={'textAlign': 'center', 'color': '#503D36', 'font-size': 40}),  #application title\n",
        "                                html.Div([\"Input: \", dcc.Input(id='input-yr', value=2010, type='number', style={'height': '50px', 'font-size': 35}),], style={'font-size': 40}),  #value will be updated in the callback function\n",
        "                                html.Br(),\n",
        "                                html.Br(),\n",
        "                                html.Div(dcc.Graph(id='bat-plot')),\n",
        "                                #html.P('Proportion of distance group (250 mile distance interval group) by flights.', style={'textAlign':'center', 'color': '#F57241'}),\n",
        "                                #dcc.Graph(figure=fig),\n",
        "                    ])\n",
        "\n",
        "#add callback decorator\n",
        "@app.callback( Output(component_id='bat-plot', component_property='figure'),\n",
        "               Input(component_id='input-yr', component_property='value'))\n",
        "\n",
        "def get_graph(entered_year):\n",
        "    df =  airline_data[airline_data['Year']==int(entered_year)]\n",
        "    g1 = df.groupby(['Reporting_Airline'])['Flights'].sum().nlargest(10).reset_index()\n",
        "    fig1 = px.bar(g1, x='Reporting_Airline', y='Flights', title='Top 10 airline carrier in year ' + str(entered_year) + ' in terms of number of flights')\n",
        "    fig1.update_layout()\n",
        "    return fig1\n",
        "\n",
        "# Run the application\n",
        "if __name__ == '__main__':\n",
        "    app.run_server(port = 8002, host='127.0.0.1', debug=True)\n",
        "\n"
      ]
    },
    {
      "cell_type": "markdown",
      "metadata": {
        "id": "ke0TJmd3X1C7"
      },
      "source": []
    }
  ],
  "metadata": {
    "colab": {
      "provenance": []
    },
    "kernelspec": {
      "display_name": "Python 3",
      "name": "python3"
    },
    "language_info": {
      "name": "python",
      "version": "3.10.2"
    }
  },
  "nbformat": 4,
  "nbformat_minor": 0
}
