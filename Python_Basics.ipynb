{
  "nbformat": 4,
  "nbformat_minor": 0,
  "metadata": {
    "colab": {
      "provenance": []
    },
    "kernelspec": {
      "name": "python3",
      "display_name": "Python 3"
    },
    "language_info": {
      "name": "python"
    }
  },
  "cells": [
    {
      "cell_type": "markdown",
      "source": [
        "# **Data Type**\n",
        "\n",
        "* Convert data types\n",
        "  * int\n",
        "  * float\n",
        "  * str: a sequence of characters\n",
        "    * Each element in the sequence can be accessed using an index represented by the array of numbers(i.e. Name[0], Name[-1])\n",
        "* Boolean\n",
        "  * True: int(True) = 1; bool(1) = True\n",
        "  * False: int(False) = 0"
      ],
      "metadata": {
        "id": "wtl5wbzbU_RA"
      }
    },
    {
      "cell_type": "code",
      "execution_count": null,
      "metadata": {
        "colab": {
          "base_uri": "https://localhost:8080/"
        },
        "id": "lo7rRVrikoFd",
        "outputId": "4c08301c-17c1-467a-bfb9-c4b288443401"
      },
      "outputs": [
        {
          "output_type": "stream",
          "name": "stdout",
          "text": [
            "5\n",
            "<class 'int'>\n",
            "5\n",
            "<class 'str'>\n"
          ]
        },
        {
          "output_type": "execute_result",
          "data": {
            "text/plain": [
              "str"
            ]
          },
          "metadata": {},
          "execution_count": 3
        }
      ],
      "source": [
        "#convert string to int\n",
        "a='5'\n",
        "print(int(a))\n",
        "a=int(a)\n",
        "print(type(a))\n",
        "\n",
        "#convert int to string\n",
        "a=5\n",
        "print(str(a))\n",
        "a=str(a)\n",
        "print(type(a))"
      ]
    },
    {
      "cell_type": "markdown",
      "source": [
        "# **String Operation**\n"
      ],
      "metadata": {
        "id": "yky3tgB-ddNX"
      }
    },
    {
      "cell_type": "code",
      "source": [
        "Name = \"Michael Jackson\"\n",
        "Name[0:2] # 'Mi'\n",
        "Name[::2] #select every second variable # 'McalJcsn'\n",
        "\n",
        "#slicing\n",
        "Name[0:5:2] #every second value up to index four\n",
        "\n",
        "#length\n",
        "len(Name) #15\n",
        "\n",
        "replication = 3 * Name #Michael JacksonMichael JacksonMichael Jackson\n",
        "\n",
        "#escape sequences\n",
        "print(\"Michael Jackson \\n is the best\") #new line\n",
        "print(\"Michael Jackson \\t is the best\") #tab\n",
        "#\\\\ for backslash"
      ],
      "metadata": {
        "colab": {
          "base_uri": "https://localhost:8080/"
        },
        "id": "BT7SGjztYhPO",
        "outputId": "42096336-d0d8-4e98-8fe8-f87a0d30bffa"
      },
      "execution_count": null,
      "outputs": [
        {
          "output_type": "stream",
          "name": "stdout",
          "text": [
            "Michael Jackson \n",
            " is the best\n",
            "Michael Jackson \t is the best\n",
            "Raw String: C:\\new_folder\\file.txt\n"
          ]
        }
      ]
    },
    {
      "cell_type": "code",
      "source": [
        "#String Method\n",
        "A = \"Thriller is the sixth studio album\"\n",
        "B = A.upper()\n",
        "print(\"After upper:\", B)\n",
        "\n",
        "#replace\n",
        "A = \"Michael Jackson is the best\"\n",
        "B = A.replace('Michael', 'Janet')\n",
        "print(B)\n",
        "\n",
        "#stride\n",
        "Name.find('el') #5: output is the first index of the sequence\n",
        "Name.find('&*D') #-1: if the sequence is not found"
      ],
      "metadata": {
        "colab": {
          "base_uri": "https://localhost:8080/"
        },
        "id": "LrewFa5IZzCk",
        "outputId": "f2ef6d22-2df4-4799-b3db-e33ee5fd2317"
      },
      "execution_count": null,
      "outputs": [
        {
          "output_type": "stream",
          "name": "stdout",
          "text": [
            "After upper: THRILLER IS THE SIXTH STUDIO ALBUM\n",
            "Janet Jackson is the best\n"
          ]
        },
        {
          "output_type": "execute_result",
          "data": {
            "text/plain": [
              "5"
            ]
          },
          "metadata": {},
          "execution_count": 13
        }
      ]
    },
    {
      "cell_type": "code",
      "source": [
        "#F-strings are able to format variables & evaluate expressions inside the curly braces\n",
        "name = \"John\"\n",
        "age = 30\n",
        "print(f\"My name is {name} and I am {age} years old.\")\n",
        "\n",
        "x = 10\n",
        "y = 20\n",
        "print(f\"The sum of x and y is {x+y}.\")\n",
        "\n",
        "#raw string r: handling textual data, especially when dealing with escape characters.\n",
        "raw_string = r\"C:\\new_folder\\file.txt\"\n",
        "print(\"Raw String:\", raw_string)\n"
      ],
      "metadata": {
        "colab": {
          "base_uri": "https://localhost:8080/"
        },
        "id": "DKG2g0F_bEdP",
        "outputId": "1291161f-03c4-4730-ef61-b3db2f82be68"
      },
      "execution_count": null,
      "outputs": [
        {
          "output_type": "stream",
          "name": "stdout",
          "text": [
            "The sum of x and y is 30.\n",
            "Raw String: C:\\new_folder\\file.txt\n"
          ]
        }
      ]
    },
    {
      "cell_type": "code",
      "source": [
        "#Reverse a string\n",
        "str2 = \"\"\n",
        "for i in str1:\n",
        "  str2 = i + str2\n",
        "  print (\"The original string is \", str1)\n",
        "  print (\"The reversed string is \", str2)"
      ],
      "metadata": {
        "id": "ThaftCXn_T62"
      },
      "execution_count": null,
      "outputs": []
    },
    {
      "cell_type": "markdown",
      "source": [
        "# **Expressions**\n",
        "\n",
        "* Expressions describe a type of operation that computers perform.\n",
        "* Mathematial Operations\n",
        "  * Python performs multiplication and then addition; calc in () will perform first\n",
        "\n",
        "# **Variables**\n",
        "* store value\n",
        "* my_variable = 1\n"
      ],
      "metadata": {
        "id": "rPhtEANPWRQS"
      }
    },
    {
      "cell_type": "markdown",
      "source": [
        "# **Tuples**\n",
        "* an ordered sequence\n",
        "* comma-separated elements within parantheses:\n",
        "  * tuple = (10, 1.2, 'disco', 5, 10...)'\n",
        "  * Index\n",
        "  * Slicing: len(tuple)\n",
        "* immutatble: must create a new tuple to change\n",
        "  * RatingsSorted = sorted(Ratings)\n",
        "\n",
        "\n",
        "# **Lists**\n",
        "* an ordered sequence\n",
        "* Represented with sqaure bracket\n",
        "* mutable\n",
        "\n"
      ],
      "metadata": {
        "id": "1B3z0qJ_dq9U"
      }
    },
    {
      "cell_type": "markdown",
      "source": [
        "**What is the difference between mutable and immutable?**\n",
        "\n",
        "Ans. Mutable objects: They can be updated once defined. e.g., list.\n",
        "Immutable objects: They cannot be updated. e.g., tuples."
      ],
      "metadata": {
        "id": "D_t2Ivlw_k8n"
      }
    },
    {
      "cell_type": "code",
      "source": [
        "# Nesting Tuples\n",
        "NT = (1,2,(\"pop\", \"rock\"),(3,4),(\"disco\", (1,2)))\n",
        "\n",
        "NT[2][1]"
      ],
      "metadata": {
        "colab": {
          "base_uri": "https://localhost:8080/",
          "height": 35
        },
        "id": "nrifs6l1ixO5",
        "outputId": "c8a2f0da-70a3-4c42-c6c9-00f730e1a019"
      },
      "execution_count": null,
      "outputs": [
        {
          "output_type": "execute_result",
          "data": {
            "text/plain": [
              "'rock'"
            ],
            "application/vnd.google.colaboratory.intrinsic+json": {
              "type": "string"
            }
          },
          "metadata": {},
          "execution_count": 2
        }
      ]
    },
    {
      "cell_type": "code",
      "source": [
        "# Nesting Lists\n",
        "LI = [\"Michale Jackson\", 10.1, 1982, [1, 2], [\"A\", 1]]\n",
        "LI[3:]"
      ],
      "metadata": {
        "colab": {
          "base_uri": "https://localhost:8080/"
        },
        "id": "-JzUYLivjgfT",
        "outputId": "5dc3e3c4-bc86-4ffe-dd36-608828b2da78"
      },
      "execution_count": null,
      "outputs": [
        {
          "output_type": "execute_result",
          "data": {
            "text/plain": [
              "[[1, 2], ['A', 1]]"
            ]
          },
          "metadata": {},
          "execution_count": 11
        }
      ]
    },
    {
      "cell_type": "code",
      "source": [
        "# mutable list\n",
        "LI.extend(['pop', 10]) #new list concatenate to original list\n",
        "print(LI[-1]) #two index added\n",
        "\n",
        "LI.append(['pop', 10]) #new list is an element of a list\n",
        "print(LI[-1]) #one index added"
      ],
      "metadata": {
        "colab": {
          "base_uri": "https://localhost:8080/"
        },
        "id": "nMDp0KKAkWOA",
        "outputId": "5bed91ea-43e6-4c9e-bcb1-b8ced456b0fe"
      },
      "execution_count": null,
      "outputs": [
        {
          "output_type": "stream",
          "name": "stdout",
          "text": [
            "10\n",
            "['pop', 10]\n"
          ]
        }
      ]
    },
    {
      "cell_type": "code",
      "source": [
        "#split string to list\n",
        "str1 = 'Data Analytics'\n",
        "print(str1.split(\" \"))\n",
        "\n",
        "#check the number of characters in this string\n",
        "len(str1)"
      ],
      "metadata": {
        "colab": {
          "base_uri": "https://localhost:8080/"
        },
        "id": "GYm7BOpglOl3",
        "outputId": "8ed7c8b0-e45b-4359-b161-d3b78e1bb14b"
      },
      "execution_count": null,
      "outputs": [
        {
          "output_type": "stream",
          "name": "stdout",
          "text": [
            "['Data', 'Analytics']\n"
          ]
        },
        {
          "output_type": "execute_result",
          "data": {
            "text/plain": [
              "14"
            ]
          },
          "metadata": {},
          "execution_count": 3
        }
      ]
    },
    {
      "cell_type": "code",
      "source": [
        "#Sort a list\n",
        "my_list = [3,2,1]\n",
        "my_list.sort()\n",
        "print(my_list)\n",
        "\n",
        "my_list.reverse() #reversing the object's sequence\n",
        "print(my_list)"
      ],
      "metadata": {
        "colab": {
          "base_uri": "https://localhost:8080/"
        },
        "id": "aAdvbPK5_c-x",
        "outputId": "83b1e54d-6809-480d-c9a0-01a2929d716e"
      },
      "execution_count": null,
      "outputs": [
        {
          "output_type": "stream",
          "name": "stdout",
          "text": [
            "[1, 2, 3]\n",
            "[3, 2, 1]\n"
          ]
        }
      ]
    },
    {
      "cell_type": "code",
      "source": [
        "# Aliasing: multiple names referring to the same object\n",
        "A = [\"hard rock\", 10, 1.2]\n",
        "B = A\n",
        "print('A:', A)\n",
        "print('B:', B)\n",
        "\n",
        "A[0]  = \"banana\" #change A, B list also changed\n",
        "print('A:', A)\n",
        "print('B:', B)\n",
        "\n",
        "#Clone\n",
        "A = [\"hard rock\", 10, 1.2]\n",
        "B = A[:]\n",
        "\n",
        "A[0] = 'banana' #change A, B list not changed\n",
        "print('A:', A)\n",
        "print('B:', B)"
      ],
      "metadata": {
        "colab": {
          "base_uri": "https://localhost:8080/"
        },
        "id": "rqRgS8Uzlq5t",
        "outputId": "f1aa9524-45bd-440f-cd27-9cad12b3ce23"
      },
      "execution_count": null,
      "outputs": [
        {
          "output_type": "stream",
          "name": "stdout",
          "text": [
            "A: ['hard rock', 10, 1.2]\n",
            "B: ['hard rock', 10, 1.2]\n",
            "A: ['banana', 10, 1.2]\n",
            "B: ['banana', 10, 1.2]\n",
            "A: ['banana', 10, 1.2]\n",
            "B: ['hard rock', 10, 1.2]\n"
          ]
        }
      ]
    },
    {
      "cell_type": "markdown",
      "source": [
        "**How to access a element in a list?**\n",
        "\n",
        "Ans. The element in a list can be accessed using list_name [index]. For instance:\n",
        "\n",
        "Given a list [1, 2, 3, 4].\n",
        "\n",
        "The indexing of the list starts from 0.\n",
        "\n",
        "The first element of the list can be accessed using list[0], which will print element “1”.\n",
        "\n",
        "The second element can be accessed using list[1] and so on."
      ],
      "metadata": {
        "id": "euBoujCVAoh2"
      }
    },
    {
      "cell_type": "markdown",
      "source": [
        "**Different ways of deleting an element from a list**\n",
        "\n",
        "1. Using remove() function: delete the mentioned element from the list\n",
        "2. Using pop() function: delete specific index from the list"
      ],
      "metadata": {
        "id": "OJ4QUp9-A2QK"
      }
    },
    {
      "cell_type": "code",
      "source": [
        "list1 = [1, 2, 3, 4]\n",
        "list1.remove(2)\n",
        "print(list1)\n",
        "\n",
        "list1.pop(1)\n",
        "print(list1)"
      ],
      "metadata": {
        "colab": {
          "base_uri": "https://localhost:8080/"
        },
        "id": "qeP8u7_PBCls",
        "outputId": "58e6fe7d-228f-49d5-badd-771856792594"
      },
      "execution_count": null,
      "outputs": [
        {
          "output_type": "stream",
          "name": "stdout",
          "text": [
            "[1, 3, 4]\n",
            "[1, 4]\n"
          ]
        }
      ]
    },
    {
      "cell_type": "code",
      "source": [
        "#Delete entire list\n",
        "list1 = [1, 2, 3, 4]\n",
        "list1.clear()\n",
        "print(list1)"
      ],
      "metadata": {
        "colab": {
          "base_uri": "https://localhost:8080/"
        },
        "id": "TENeZrfXBdNj",
        "outputId": "a4873fd3-7803-4d1a-946c-7e2e68070208"
      },
      "execution_count": null,
      "outputs": [
        {
          "output_type": "stream",
          "name": "stdout",
          "text": [
            "[]\n"
          ]
        }
      ]
    },
    {
      "cell_type": "code",
      "source": [
        "#Q: Find unique value in a list of assorted number and print the count of how many times each value is repeated"
      ],
      "metadata": {
        "id": "tA7ewNOQ-S9J"
      },
      "execution_count": null,
      "outputs": []
    },
    {
      "cell_type": "code",
      "source": [
        "#Q: Find and print duplicate values in a list of assorted numbers, along with the number of times each value is repeated\n",
        "# Sample list of numbers\n",
        "numbers = [4, 5, 6, 7, 4, 5, 8, 6, 5, 4, 9, 10]\n",
        "\n",
        "counts = {}\n",
        "# Count occurrences of each number\n",
        "for num in numbers:\n",
        "    if num in counts:\n",
        "        counts[num] += 1\n",
        "    else:\n",
        "        counts[num] = 1\n",
        "\n",
        "# Filter out numbers with only one occurrence\n",
        "duplicates = {num: count for num, count in counts.items() if count > 1}\n",
        "\n",
        "# Print duplicate values and their counts\n",
        "for num, count in duplicates.items():\n",
        "    print(f\"Value {num} is repeated {count} times.\")\n",
        "\n",
        "print(counts)"
      ],
      "metadata": {
        "id": "JxKz55T6-gV0",
        "colab": {
          "base_uri": "https://localhost:8080/"
        },
        "outputId": "32627687-3e0b-4430-9173-644c600b3d6f"
      },
      "execution_count": null,
      "outputs": [
        {
          "output_type": "stream",
          "name": "stdout",
          "text": [
            "Value 4 is repeated 3 times.\n",
            "Value 5 is repeated 3 times.\n",
            "Value 6 is repeated 2 times.\n",
            "{4: 3, 5: 3, 6: 2, 7: 1, 8: 1, 9: 1, 10: 1}\n"
          ]
        }
      ]
    },
    {
      "cell_type": "markdown",
      "source": [
        "# **Dictionaries**\n",
        "\n",
        "* a type of collection, has keys and values\n",
        "* denoted with curly bracket\n",
        "  * keys has to be immutable and unique\n",
        "  * values can be immutable, mutable, and duplicates\n",
        "  * each key and value pair is separated by comma\n",
        "\n"
      ],
      "metadata": {
        "id": "MDS6jgO8np34"
      }
    },
    {
      "cell_type": "code",
      "source": [
        "Dict = {\"key1\": 1, \"key2\": \"2\", \"key3\": [3, 3, 3], \"key4\": (4, 4, 4), ('key5'): 5, (0, 1): 6}\n",
        "Dict[(0, 1)]"
      ],
      "metadata": {
        "colab": {
          "base_uri": "https://localhost:8080/"
        },
        "id": "-tMZ5hlPoy16",
        "outputId": "d21346c3-2fce-43ff-e6d9-68a1d37957d9"
      },
      "execution_count": null,
      "outputs": [
        {
          "output_type": "execute_result",
          "data": {
            "text/plain": [
              "6"
            ]
          },
          "metadata": {},
          "execution_count": 23
        }
      ]
    },
    {
      "cell_type": "code",
      "source": [
        "release_year_dict = {\"Thriller\": \"1982\", \"Back in Black\": \"1980\", \\\n",
        "                    \"The Dark Side of the Moon\": \"1973\", \"The Bodyguard\": \"1992\", \\\n",
        "                    \"Bat Out of Hell\": \"1977\", \"Their Greatest Hits (1971-1975)\": \"1976\", \\\n",
        "                    \"Saturday Night Fever\": \"1977\", \"Rumours\": \"1977\"}\n",
        "# add new key\n",
        "release_year_dict['Graduation'] = '2007'\n",
        "release_year_dict\n",
        "\n",
        "#delete an entry\n",
        "del(release_year_dict['Thriller'])\n",
        "release_year_dict\n",
        "\n",
        "#check if the key in the dictionary\n",
        "\"The Bodyguard\" in release_year_dict #True"
      ],
      "metadata": {
        "colab": {
          "base_uri": "https://localhost:8080/"
        },
        "id": "bZjD-PEIotRh",
        "outputId": "e4fa709b-94bf-4168-d91b-07df16344c57"
      },
      "execution_count": null,
      "outputs": [
        {
          "output_type": "execute_result",
          "data": {
            "text/plain": [
              "True"
            ]
          },
          "metadata": {},
          "execution_count": 27
        }
      ]
    },
    {
      "cell_type": "code",
      "source": [
        "release_year_dict.keys()\n",
        "release_year_dict.values()"
      ],
      "metadata": {
        "colab": {
          "base_uri": "https://localhost:8080/"
        },
        "id": "Sz05JkGxpVmJ",
        "outputId": "afa898d4-4e1a-4e6e-d9a6-653fc365f52e"
      },
      "execution_count": null,
      "outputs": [
        {
          "output_type": "execute_result",
          "data": {
            "text/plain": [
              "dict_values(['1980', '1973', '1992', '1977', '1976', '1977', '1977', '2007'])"
            ]
          },
          "metadata": {},
          "execution_count": 28
        }
      ]
    },
    {
      "cell_type": "code",
      "source": [
        "#Q: Create a dictionary, add element, modify an element, print the dictionaryy in alphabetical order\n",
        "# Step 1: Create a dictionary\n",
        "my_dict = {\n",
        "    \"apple\": 5,\n",
        "    \"banana\": 10,\n",
        "    \"cherry\": 15\n",
        "}\n",
        "\n",
        "# Step 2: Add an element to the dictionary\n",
        "my_dict[\"date\"] = 20\n",
        "\n",
        "# Step 3: Modify an element in the dictionary\n",
        "my_dict[\"banana\"] = 12\n",
        "\n",
        "# Step 4: Print the dictionary in alphabetical order\n",
        "sorted_dict = dict(sorted(my_dict.items()))\n",
        "\n",
        "print(\"Dictionary in alphabetical order:\")\n",
        "for key, value in sorted_dict.items():\n",
        "    print(f\"{key}: {value}\")"
      ],
      "metadata": {
        "id": "wntSAWSPlkjv",
        "colab": {
          "base_uri": "https://localhost:8080/"
        },
        "outputId": "550f9e51-7b3b-4dd7-d78a-308d0d61c0c5"
      },
      "execution_count": null,
      "outputs": [
        {
          "output_type": "stream",
          "name": "stdout",
          "text": [
            "Dictionary in alphabetical order:\n",
            "apple: 5\n",
            "banana: 12\n",
            "cherry: 15\n",
            "date: 20\n"
          ]
        }
      ]
    },
    {
      "cell_type": "markdown",
      "source": [
        "# **Sets**\n",
        "\n",
        "* A type of collection (you can input different types)\n",
        "* Unordered: not like lists and tuples, do not record element position\n",
        "* Only have unique elements"
      ],
      "metadata": {
        "id": "XzdMYV5hpvRI"
      }
    },
    {
      "cell_type": "code",
      "source": [
        "genres_list = [\"pop\", \"pop\", \"rock\", \"folk rock\", \"hard rock\", \"soul\", \\\n",
        "                    \"progressive rock\", \"soft rock\", \"R&B\", \"disco\"]\n",
        "genres_set = set(genres_list)\n",
        "genres_set #no duplicate elements"
      ],
      "metadata": {
        "colab": {
          "base_uri": "https://localhost:8080/"
        },
        "id": "kdp8aqd-ptrq",
        "outputId": "43a75696-b1b7-4113-e07c-d7ae1c048c91"
      },
      "execution_count": null,
      "outputs": [
        {
          "output_type": "execute_result",
          "data": {
            "text/plain": [
              "{'R&B',\n",
              " 'disco',\n",
              " 'folk rock',\n",
              " 'hard rock',\n",
              " 'pop',\n",
              " 'progressive rock',\n",
              " 'rock',\n",
              " 'soft rock',\n",
              " 'soul'}"
            ]
          },
          "metadata": {},
          "execution_count": 29
        }
      ]
    },
    {
      "cell_type": "code",
      "source": [
        "# Set Operations\n",
        "A = {\"Thriller\", \"Back in Black\", \"AC/DC\"}\n",
        "A.add(\"NSYNC\")\n",
        "print(A)\n",
        "\n",
        "A.remove(\"NSYNC\")\n",
        "print(A)\n",
        "\n",
        "\"AC/DC\" in A #True"
      ],
      "metadata": {
        "colab": {
          "base_uri": "https://localhost:8080/"
        },
        "id": "LxkpQRsMqpkN",
        "outputId": "aa7af6c0-2a7a-4a71-b76e-e5ace32d7291"
      },
      "execution_count": null,
      "outputs": [
        {
          "output_type": "stream",
          "name": "stdout",
          "text": [
            "{'NSYNC', 'AC/DC', 'Back in Black', 'Thriller'}\n",
            "{'AC/DC', 'Back in Black', 'Thriller'}\n"
          ]
        },
        {
          "output_type": "execute_result",
          "data": {
            "text/plain": [
              "True"
            ]
          },
          "metadata": {},
          "execution_count": 31
        }
      ]
    },
    {
      "cell_type": "code",
      "source": [
        "album_set1 = set([\"Thriller\", 'AC/DC', 'Back in Black'])\n",
        "album_set2 = set([ \"AC/DC\", \"Back in Black\", \"The Dark Side of the Moon\"])\n",
        "\n",
        "intersection = album_set1 & album_set2\n",
        "album_set3 = intersection\n",
        "\n",
        "# Find the difference in set1 but not set2\n",
        "album_set1.difference(album_set2)\n",
        "\n",
        "# Find the intersection\n",
        "album_set1.intersection(album_set2)\n",
        "\n",
        "# Find the union of two sets\n",
        "album_set1.union(album_set2)\n",
        "\n",
        "# Check subset\n",
        "album_set3.issubset(album_set1) #True\n"
      ],
      "metadata": {
        "colab": {
          "base_uri": "https://localhost:8080/"
        },
        "id": "QZBKzqjErWzo",
        "outputId": "4cc8a72a-406b-4f91-c7b3-f49740a31f00"
      },
      "execution_count": null,
      "outputs": [
        {
          "output_type": "execute_result",
          "data": {
            "text/plain": [
              "False"
            ]
          },
          "metadata": {},
          "execution_count": 36
        }
      ]
    },
    {
      "cell_type": "markdown",
      "source": [
        "# **Conditions**\n",
        "\n",
        "* If Statement\n",
        "* Logic Operator\n",
        "  * NOT: if not ...:\n",
        "  * OR: if (year<1980) or (year>1990): either one is True\n",
        "  * AND: if (year>1979) and (year<1990): both are True\n",
        "\n"
      ],
      "metadata": {
        "id": "cgO8rFK0HUag"
      }
    },
    {
      "cell_type": "code",
      "source": [
        "age = 17\n",
        "if (age>18):\n",
        "  print(\"you will enter ACDC concert\")\n",
        "elif (age==18):\n",
        "  print(\"go see Pink Floyd\")\n",
        "else:\n",
        "  print(\"go see Meat Loaf\")"
      ],
      "metadata": {
        "colab": {
          "base_uri": "https://localhost:8080/"
        },
        "id": "fVCcs5GhHToR",
        "outputId": "0f7de5a8-d8b2-4ebd-b71f-3256c3c6b812"
      },
      "execution_count": null,
      "outputs": [
        {
          "output_type": "stream",
          "name": "stdout",
          "text": [
            "go see Meat Loaf\n"
          ]
        }
      ]
    },
    {
      "cell_type": "markdown",
      "source": [
        "# **Loops**\n",
        "\n",
        "* enumerate: syntax to iterate through a list and provide the index of each element\n",
        "* while loops: only run if a condition is met"
      ],
      "metadata": {
        "id": "9RqVKC8ZKESr"
      }
    },
    {
      "cell_type": "code",
      "source": [
        "squares=['red', 'yellow', 'green', 'purple', 'blue']\n",
        "for i in range(0, 5):  #range function generates a list\n",
        "    squares[i] = 'white' # i will increment by 1 each time\n",
        "print(squares)"
      ],
      "metadata": {
        "colab": {
          "base_uri": "https://localhost:8080/"
        },
        "id": "kkEvaOpLKrYv",
        "outputId": "de2089a0-0813-455f-dff3-0390923e6ab8"
      },
      "execution_count": null,
      "outputs": [
        {
          "output_type": "stream",
          "name": "stdout",
          "text": [
            "['white', 'white', 'white', 'white', 'white']\n"
          ]
        }
      ]
    },
    {
      "cell_type": "code",
      "source": [
        "squares=['red', 'yellow', 'green']\n",
        "for i,square in enumerate(squares):\n",
        "  print(i,square)"
      ],
      "metadata": {
        "colab": {
          "base_uri": "https://localhost:8080/"
        },
        "id": "VUZ8mNNzLdKT",
        "outputId": "f5d8429f-f709-443d-e1cb-e99c8cf615c0"
      },
      "execution_count": null,
      "outputs": [
        {
          "output_type": "stream",
          "name": "stdout",
          "text": [
            "0 red\n",
            "1 yellow\n",
            "2 green\n"
          ]
        }
      ]
    },
    {
      "cell_type": "code",
      "source": [
        "squares=['orange', 'orange', 'purple', 'blue ', 'orange']\n",
        "new_squares=[];\n",
        "i=0\n",
        "while(squares[i]=='orange'):\n",
        "  new_squares.append(squares[i])\n",
        "  i=i+1\n",
        "print(new_squares)\n"
      ],
      "metadata": {
        "colab": {
          "base_uri": "https://localhost:8080/"
        },
        "id": "hKuGWITmMKNx",
        "outputId": "84b7ac9c-3df1-44a9-b5ff-f38e7a0a41e2"
      },
      "execution_count": null,
      "outputs": [
        {
          "output_type": "stream",
          "name": "stdout",
          "text": [
            "['orange', 'orange']\n"
          ]
        }
      ]
    },
    {
      "cell_type": "markdown",
      "source": [
        "# **Functions**\n",
        "\n",
        "* take input and produce output, can reuse\n",
        "* **Built-in function**\n",
        "  * len: the length of sequence or collection\n",
        "  * sum: return the total of elements\n",
        "  * sort: sorted_input = sorted(input) *will not change the original list* / input.sort()\n",
        "* Making functions\n",
        "  * The scope of a variable is the part of the program where that variable is accessible.\n",
        "  * Variables that are defined outside of any function are said to be within the global scope, meaning they can be accessed anywhere after they are defined.\n",
        "  * Local variables only exist within the scope"
      ],
      "metadata": {
        "id": "idmpzYaHN3-D"
      }
    },
    {
      "cell_type": "code",
      "source": [
        "def add1(a):\n",
        "  b=a+1\n",
        "  return b\n",
        "\n",
        "add1(5)\n",
        "\n",
        "# a function can have multiple parameters\n",
        "def Mult(a, b):\n",
        "  c= a * b\n",
        "  return c\n",
        "\n",
        "Mult(10, 3.14)\n",
        "Mult(2, 'Michael')\n",
        "\n",
        "#no return statement, will return None object\n",
        "def MJ():\n",
        "  print('Michael Jackson')\n",
        "\n",
        "MJ() #Michael Jackson\n",
        "print(MJ()) #None\n",
        "\n",
        "# collecting arguments\n",
        "def ArtistNames(*names):  #asterisk: multiple parameters are packed into the tuple names\n",
        "  for name in names:\n",
        "    print(name)\n",
        "\n",
        "ArtistNames('Michael Jackson', 'AC/DC', 'Pink Floyd')\n",
        "\n",
        "# global scope\n",
        "def Thriller():\n",
        "  Date = 1982 #local variable. # add global in the front, can change this to global variable\n",
        "  return Date\n",
        "\n",
        "Date = 2017 #global variable\n",
        "print(Thriller()) #1982\n",
        "print(Date) #2017"
      ],
      "metadata": {
        "colab": {
          "base_uri": "https://localhost:8080/"
        },
        "id": "mEg-wjABUcHz",
        "outputId": "f0123db9-fa54-48f0-ff5e-11bab83ff19b"
      },
      "execution_count": null,
      "outputs": [
        {
          "output_type": "stream",
          "name": "stdout",
          "text": [
            "Michael Jackson\n",
            "Michael Jackson\n",
            "None\n",
            "Michael Jackson\n",
            "AC/DC\n",
            "Pink Floyd\n",
            "1982\n",
            "2017\n"
          ]
        }
      ]
    },
    {
      "cell_type": "markdown",
      "source": [
        "# **Exception Handling**\n",
        "\n",
        "* an event was triggered in the background\n",
        "* **try...except statement**: first attempt to execute the code in the “try” block, but if an error occurs it will kick out and begin searching for the exception that matches the error."
      ],
      "metadata": {
        "id": "-i29H0cHaprA"
      }
    },
    {
      "cell_type": "code",
      "source": [
        "try:\n",
        "  getfile=open(\"myfile\", \"r\")\n",
        "  getfile.write(\"Found myfile\")\n",
        "except IOError:\n",
        "  print(\"Unable to open or read the data in the file\")\n",
        "else:\n",
        "  print(\"The file was written successfully\") #showing the file is executed properly\n",
        "finally:\n",
        "  getfile.close()\n",
        "  print(\"The file is now closed\") #close the file no matter the end result"
      ],
      "metadata": {
        "id": "Tvv_oCMubWmQ"
      },
      "execution_count": null,
      "outputs": []
    },
    {
      "cell_type": "markdown",
      "source": [
        "# **Objects and Class**\n",
        "\n",
        "* Every Object has\n",
        "  * A type\n",
        "  * An internal data representation (a blueprint)\n",
        "  * A set of procedures for interacting with the object (method)\n",
        "* An object is an instance of a particular type\n",
        "* A class or type's method are functions that every instance of that class or type provides\n",
        "\n",
        "* Create you own types: Defining Classes\n",
        "  * Class: Data attributes (define the class);\n",
        "  * Methods: functions that interact and change the data attributes\n",
        "  * Objects or instances of that class"
      ],
      "metadata": {
        "id": "pvOCjqOcczbR"
      }
    },
    {
      "cell_type": "code",
      "source": [
        "# Create a class: Circle\n",
        "class Circle(object):  #define class\n",
        "# __init__: special function that tells python you're making a new class\n",
        "  def __init__(self, radius, color):  #data attributes used to initialize each instance of the class\n",
        "    self.radius = radius\n",
        "    self.color = color\n",
        "\n",
        "RedCircle = Circle(10, 'red') # create an object of class circle\n",
        "print(RedCircle.radius)\n",
        "print(RedCircle.color)\n",
        "\n",
        "#change data attribute\n",
        "RedCircle.radius = 1\n",
        "RedCircle.color = 'blue'\n",
        "\n",
        "\n",
        "import matplotlib.pyplot as plt\n",
        "class Rectangle(object):\n",
        "  def __init__(self, width=2, height=3, color='r'):\n",
        "    self.height = height\n",
        "    self.width = width\n",
        "    self.color = color\n",
        "  def add_width(self, a):  # method used to add a to width\n",
        "    self.width = self.width + a\n",
        "    return self.width\n",
        "  def drawRectangle(self):\n",
        "    plt.gca().add_patch(plt.Rectangle((0, 0), self.width, self.height ,fc=self.color))\n",
        "    plt.axis('scaled')\n",
        "    plt.show()\n",
        "\n",
        "R1 = Rectangle(10, 6, 'orange')\n",
        "R1.add_width(2)  # change the object and the rectangle data attribute\n",
        "\n",
        "R1.drawRectangle()"
      ],
      "metadata": {
        "colab": {
          "base_uri": "https://localhost:8080/",
          "height": 344
        },
        "id": "hWNKDOvVewn1",
        "outputId": "0e6455a6-d814-487f-932d-936d1ff534f8"
      },
      "execution_count": null,
      "outputs": [
        {
          "output_type": "stream",
          "name": "stdout",
          "text": [
            "10\n",
            "red\n"
          ]
        },
        {
          "output_type": "display_data",
          "data": {
            "text/plain": [
              "<Figure size 640x480 with 1 Axes>"
            ],
            "image/png": "[encoded data removed]"
          },
          "metadata": {}
        }
      ]
    },
    {
      "cell_type": "markdown",
      "source": [
        "# **Files Object**\n",
        "\n",
        "```\n",
        "* file1 = open(\"/resources/data/Example1.txt\", \"r\") mode: r: read, w: write, a: appending\n",
        "* file1.name\n",
        "* file1.mode\n",
        "* file1.close()\n",
        "```\n",
        "```\n",
        "with open (\"Example1.txt\", \"r\") as file1:\n",
        "  file_stuff = file1.readline() #read only one line each time\n",
        "  file_stuff = file1.readline(n) (n: how many characters)\n",
        "    (this with statement will automatically close the file)\n",
        "```\n",
        "\n",
        "```\n",
        "* file1 = open(\"/resources/data/Example1.txt\", \"w\")\n",
        "* file1.write (\"This is line 1\") #text write to the file\n",
        "* with open (\"Example1.txt\", \"r\") as file1:\n",
        "    for line in lines:\n",
        "      file1.write(\"This is line A\")\n",
        "\n",
        "```\n",
        "\n",
        "```\n",
        "# copy from Example2 to Example3\n",
        "with open('Example2.txt','r') as readfile:\n",
        "    with open('Example3.txt','w') as writefile:\n",
        "        for line in readfile:\n",
        "             writefile.write(line)\n",
        "```"
      ],
      "metadata": {
        "id": "CPc89o-O5nJY"
      }
    },
    {
      "cell_type": "markdown",
      "source": [
        "# **Pandas**\n",
        "\n",
        "```\n",
        "import pandas as pd\n",
        "\n",
        "csv_path = 'file1.csv'\n",
        "df = pd.read_csv(csv_path)\n",
        "\n",
        "df.head()\n",
        "\n",
        "df.iloc[0,0] #access the first row, first column\n",
        "\n",
        "df['column1'].unique()  #all unique elements in one column\n",
        "\n",
        "df.to_csv('new_file.csv')\n",
        "```"
      ],
      "metadata": {
        "id": "WKYac_H-rVwi"
      }
    },
    {
      "cell_type": "markdown",
      "source": [
        "# **Numpy**\n",
        "\n",
        "**1-dimensional array**\n",
        "* Basic Operation\n",
        "  * Vector addition and subtraction\n",
        "  ```\n",
        "  u=np.array([1,0])\n",
        "  v=np.array([0,1])\n",
        "  z=u+v   #z: array([1,1])\n",
        "  or\n",
        "  a=[]\n",
        "  for n,m in zip(u,v):\n",
        "  z.append(n+m)\n",
        "  ```\n",
        "  * Vector multiplication with a scalar\n",
        "  ```\n",
        "  y = np.array([1,2])\n",
        "  z = 2*y  # z:array([2,4])\n",
        "  ```\n",
        "  * Dot Product\n",
        "    * A single number given by the following term and represents how similar two vectors are.\n",
        "  ```\n",
        "  u=np.array([1,2])\n",
        "  v=np.array([3,1])\n",
        "  result = np.dot(u,v)\n",
        "  #result =  1*3 + 2*1 = 5\n",
        "  ```\n",
        "  *Broadcasting\n",
        "  ```\n",
        "  u=np.array([1,2,3,-1])\n",
        "  z=u+1\n",
        "  z: array([2,3,4,0])\n",
        "  ```\n",
        "  *Universal function\n",
        "  ```\n",
        "  a=np.array([1,-1,1,-1,3,4,5])\n",
        "  mean_a = a.mean()\n",
        "  max_a = a.max()\n",
        "  np.linspace(-2,2,num=5) #returns evenly spaced numbers over a specified interval.\n",
        "  ```"
      ],
      "metadata": {
        "id": "CCvuJySLxbrT"
      }
    },
    {
      "cell_type": "code",
      "source": [
        "import numpy as np\n",
        "a = np.array([0, 1, 2, 3, 4])\n",
        "\n",
        "a[0] #index\n",
        "\n",
        "type(a) #type #numpy.ndarray\n",
        "a.dtype #data type of the array's elements\n",
        "a.size #number of element in this array  #5\n",
        "a.ndim #the number of array dimensions / the rank of array #1\n",
        "a.shape #size of array in each dimension #(5,)"
      ],
      "metadata": {
        "colab": {
          "base_uri": "https://localhost:8080/"
        },
        "id": "YNaJH6m_xiOg",
        "outputId": "ea99a9f8-d183-42db-db31-c6b413aa664d"
      },
      "execution_count": null,
      "outputs": [
        {
          "output_type": "execute_result",
          "data": {
            "text/plain": [
              "(5,)"
            ]
          },
          "metadata": {},
          "execution_count": 4
        }
      ]
    },
    {
      "cell_type": "code",
      "source": [
        "np.linspace(-2,2,num=5)   #returns evenly spaced numbers over a specified interval."
      ],
      "metadata": {
        "colab": {
          "base_uri": "https://localhost:8080/"
        },
        "id": "Nwte2EIM4LDi",
        "outputId": "7e3c3cc9-3b41-4496-8d2f-3180bd729961"
      },
      "execution_count": null,
      "outputs": [
        {
          "output_type": "execute_result",
          "data": {
            "text/plain": [
              "array([-2., -1.,  0.,  1.,  2.])"
            ]
          },
          "metadata": {},
          "execution_count": 5
        }
      ]
    },
    {
      "cell_type": "code",
      "source": [
        "x=np.linspace(0,2*np.pi,100)\n",
        "y=np.sin(x)\n",
        "\n",
        "import matplotlib.pyplot as plt\n",
        "plt.plot(x,y)"
      ],
      "metadata": {
        "colab": {
          "base_uri": "https://localhost:8080/",
          "height": 447
        },
        "id": "c71XdIM_4iZl",
        "outputId": "ce73804d-cf58-4c59-c49f-fefacc3c2fba"
      },
      "execution_count": null,
      "outputs": [
        {
          "output_type": "execute_result",
          "data": {
            "text/plain": [
              "[<matplotlib.lines.Line2D at 0x7b24232a5210>]"
            ]
          },
          "metadata": {},
          "execution_count": 6
        },
        {
          "output_type": "display_data",
          "data": {
            "text/plain": [
              "<Figure size 640x480 with 1 Axes>"
            ],
            "image/png": "[encoded data removed]"
          },
          "metadata": {}
        }
      ]
    },
    {
      "cell_type": "code",
      "source": [
        "#Reverse an array\n",
        "import numpy as np\n",
        "arr = np.array([1, 2, 3, 4])\n",
        "arr1 = arr[::-1]\n",
        "print(arr1)\n",
        "\n",
        "#Or\n",
        "arr2 = np.flip(arr)\n",
        "print(arr2)"
      ],
      "metadata": {
        "colab": {
          "base_uri": "https://localhost:8080/"
        },
        "id": "281N2yOyBnIa",
        "outputId": "5f5c9f67-0c48-4ada-a446-1ecd8b568d14"
      },
      "execution_count": null,
      "outputs": [
        {
          "output_type": "stream",
          "name": "stdout",
          "text": [
            "[4 3 2 1]\n",
            "[4 3 2 1]\n"
          ]
        }
      ]
    },
    {
      "cell_type": "markdown",
      "source": [
        "**2-Dimensional Array**\n"
      ],
      "metadata": {
        "id": "xESEApQv46J-"
      }
    },
    {
      "cell_type": "code",
      "source": [
        "#rectangular array\n",
        "a = [[11, 12, 13], [21, 22, 23], [31, 32, 33]]\n",
        "A = np.array(a)\n",
        "print(A)\n",
        "\n",
        "print(A.ndim) #2 dimension:level of nested lists"
      ],
      "metadata": {
        "colab": {
          "base_uri": "https://localhost:8080/"
        },
        "id": "kz-QZsII5EZ5",
        "outputId": "a6fe9e52-f17d-4f43-d8da-9f6ee29bf80a"
      },
      "execution_count": null,
      "outputs": [
        {
          "output_type": "stream",
          "name": "stdout",
          "text": [
            "[[11 12 13]\n",
            " [21 22 23]\n",
            " [31 32 33]]\n",
            "2\n"
          ]
        }
      ]
    },
    {
      "cell_type": "code",
      "source": [
        "#Matrix Multiplication\n",
        "A = np.array([[0,1,1], [1,0,1]])\n",
        "B = np.array([[1,1], [1,1], [-1,1]])\n",
        "C = np.dot(A,B)\n",
        "print(C)"
      ],
      "metadata": {
        "colab": {
          "base_uri": "https://localhost:8080/"
        },
        "id": "1Ioxeiej5KWT",
        "outputId": "dfdc0c7d-ab7d-43b7-b0c9-a072d52e681a"
      },
      "execution_count": null,
      "outputs": [
        {
          "output_type": "stream",
          "name": "stdout",
          "text": [
            "[[0 2]\n",
            " [0 2]]\n"
          ]
        }
      ]
    },
    {
      "cell_type": "code",
      "source": [
        "transposed_arr = A.T\n",
        "transposed_arr"
      ],
      "metadata": {
        "colab": {
          "base_uri": "https://localhost:8080/"
        },
        "id": "FjAR7Q6-9zgi",
        "outputId": "e3014d1c-d768-4e4e-8511-f16e257f8f4a"
      },
      "execution_count": null,
      "outputs": [
        {
          "output_type": "execute_result",
          "data": {
            "text/plain": [
              "array([[0, 1],\n",
              "       [1, 0],\n",
              "       [1, 1]])"
            ]
          },
          "metadata": {},
          "execution_count": 13
        }
      ]
    },
    {
      "cell_type": "code",
      "source": [
        "reshape_arr = A.reshape(3,2)\n",
        "reshape_arr"
      ],
      "metadata": {
        "colab": {
          "base_uri": "https://localhost:8080/"
        },
        "id": "rHaZedO--JNj",
        "outputId": "dd7d1329-6b61-4d2b-c7a1-562d66ae1dbe"
      },
      "execution_count": null,
      "outputs": [
        {
          "output_type": "execute_result",
          "data": {
            "text/plain": [
              "array([[0, 1],\n",
              "       [1, 1],\n",
              "       [0, 1]])"
            ]
          },
          "metadata": {},
          "execution_count": 16
        }
      ]
    },
    {
      "cell_type": "code",
      "source": [
        "X=np.array([[1,0],[0,1]])\n",
        "\n",
        "Y=np.array([[2,2],[2,2]])\n",
        "\n",
        "Z=np.dot(X,Y)\n",
        "Z"
      ],
      "metadata": {
        "colab": {
          "base_uri": "https://localhost:8080/"
        },
        "id": "Szozqw4H-RSA",
        "outputId": "87f51027-def0-4d22-e358-84c742b6c4d5"
      },
      "execution_count": null,
      "outputs": [
        {
          "output_type": "execute_result",
          "data": {
            "text/plain": [
              "array([[2, 2],\n",
              "       [2, 2]])"
            ]
          },
          "metadata": {},
          "execution_count": 18
        }
      ]
    },
    {
      "cell_type": "markdown",
      "source": [
        "# **API**\n",
        "\n",
        "* communicate with other software via inputs and outputs\n",
        "\n",
        "**REST API**\n",
        "* communicate through the internet allowing you to take advantage of resources\n",
        "* interact with web services\n",
        "* the client sends requests to the resources and the response to the client\n",
        "* HTTP methods: a way of transmitting the data over the internet; requests is communicated with HTTP message (usually contains JSON file)\n",
        "* pycoingecko"
      ],
      "metadata": {
        "id": "ypkycHlBBEkR"
      }
    },
    {
      "cell_type": "code",
      "source": [
        "!pip install pycoingecko\n",
        "from pycoingecko import CoinGeckoAPI"
      ],
      "metadata": {
        "colab": {
          "base_uri": "https://localhost:8080/"
        },
        "id": "ObbNMNd-_IZt",
        "outputId": "6f1a7327-3226-4b9c-96a5-431e1a6b0c82"
      },
      "execution_count": null,
      "outputs": [
        {
          "output_type": "stream",
          "name": "stdout",
          "text": [
            "Collecting pycoingecko\n",
            "  Downloading pycoingecko-3.2.0-py3-none-any.whl.metadata (16 kB)\n",
            "Requirement already satisfied: requests in /usr/local/lib/python3.10/dist-packages (from pycoingecko) (2.32.3)\n",
            "Requirement already satisfied: charset-normalizer<4,>=2 in /usr/local/lib/python3.10/dist-packages (from requests->pycoingecko) (3.4.0)\n",
            "Requirement already satisfied: idna<4,>=2.5 in /usr/local/lib/python3.10/dist-packages (from requests->pycoingecko) (3.10)\n",
            "Requirement already satisfied: urllib3<3,>=1.21.1 in /usr/local/lib/python3.10/dist-packages (from requests->pycoingecko) (2.2.3)\n",
            "Requirement already satisfied: certifi>=2017.4.17 in /usr/local/lib/python3.10/dist-packages (from requests->pycoingecko) (2024.12.14)\n",
            "Downloading pycoingecko-3.2.0-py3-none-any.whl (10 kB)\n",
            "Installing collected packages: pycoingecko\n",
            "Successfully installed pycoingecko-3.2.0\n"
          ]
        }
      ]
    },
    {
      "cell_type": "code",
      "source": [
        "cg = CoinGeckoAPI()\n",
        "bitcoin_data = cg.get_coin_market_chart_by_id(id='bitcoin', vs_currency='usd', days=30) #bitcoin data on US dollars\n",
        "type(bitcoin_data) #UNIX timestamp, the price"
      ],
      "metadata": {
        "colab": {
          "base_uri": "https://localhost:8080/"
        },
        "id": "6c-ol9aqDzAb",
        "outputId": "db46bd8d-766b-418b-e8d1-acfc7e9c81ce"
      },
      "execution_count": null,
      "outputs": [
        {
          "output_type": "execute_result",
          "data": {
            "text/plain": [
              "dict"
            ]
          },
          "metadata": {},
          "execution_count": 37
        }
      ]
    },
    {
      "cell_type": "code",
      "source": [
        "import pandas as pd\n",
        "df = pd.DataFrame(bitcoin_data['prices'], columns=['Timestamp', 'Price'])\n",
        "df['Date'] = pd.to_datetime(df['Timestamp'], unit='ms')\n",
        "df.head()"
      ],
      "metadata": {
        "colab": {
          "base_uri": "https://localhost:8080/",
          "height": 206
        },
        "id": "BLHa6cmYEzg5",
        "outputId": "155f9ee2-c7b2-49a8-bed7-8fe085fb2c2e"
      },
      "execution_count": null,
      "outputs": [
        {
          "output_type": "execute_result",
          "data": {
            "text/plain": [
              "       Timestamp         Price                    Date\n",
              "0  1733349809095  97894.625911 2024-12-04 22:03:29.095\n",
              "1  1733353380202  98380.455077 2024-12-04 23:03:00.202\n",
              "2  1733356835557  98881.469456 2024-12-05 00:00:35.557\n",
              "3  1733360602566  98435.437357 2024-12-05 01:03:22.566\n",
              "4  1733364034798  98238.848184 2024-12-05 02:00:34.798"
            ],
            "text/html": [
              "\n",
              "  <div id=\"df-a188e9bc-20f3-4596-ace5-f9b03c9774d7\" class=\"colab-df-container\">\n",
              "    <div>\n",
              "<style scoped>\n",
              "    .dataframe tbody tr th:only-of-type {\n",
              "        vertical-align: middle;\n",
              "    }\n",
              "\n",
              "    .dataframe tbody tr th {\n",
              "        vertical-align: top;\n",
              "    }\n",
              "\n",
              "    .dataframe thead th {\n",
              "        text-align: right;\n",
              "    }\n",
              "</style>\n",
              "<table border=\"1\" class=\"dataframe\">\n",
              "  <thead>\n",
              "    <tr style=\"text-align: right;\">\n",
              "      <th></th>\n",
              "      <th>Timestamp</th>\n",
              "      <th>Price</th>\n",
              "      <th>Date</th>\n",
              "    </tr>\n",
              "  </thead>\n",
              "  <tbody>\n",
              "    <tr>\n",
              "      <th>0</th>\n",
              "      <td>1733349809095</td>\n",
              "      <td>97894.625911</td>\n",
              "      <td>2024-12-04 22:03:29.095</td>\n",
              "    </tr>\n",
              "    <tr>\n",
              "      <th>1</th>\n",
              "      <td>1733353380202</td>\n",
              "      <td>98380.455077</td>\n",
              "      <td>2024-12-04 23:03:00.202</td>\n",
              "    </tr>\n",
              "    <tr>\n",
              "      <th>2</th>\n",
              "      <td>1733356835557</td>\n",
              "      <td>98881.469456</td>\n",
              "      <td>2024-12-05 00:00:35.557</td>\n",
              "    </tr>\n",
              "    <tr>\n",
              "      <th>3</th>\n",
              "      <td>1733360602566</td>\n",
              "      <td>98435.437357</td>\n",
              "      <td>2024-12-05 01:03:22.566</td>\n",
              "    </tr>\n",
              "    <tr>\n",
              "      <th>4</th>\n",
              "      <td>1733364034798</td>\n",
              "      <td>98238.848184</td>\n",
              "      <td>2024-12-05 02:00:34.798</td>\n",
              "    </tr>\n",
              "  </tbody>\n",
              "</table>\n",
              "</div>\n",
              "    <div class=\"colab-df-buttons\">\n",
              "\n",
              "  <div class=\"colab-df-container\">\n",
              "    <button class=\"colab-df-convert\" onclick=\"convertToInteractive('df-a188e9bc-20f3-4596-ace5-f9b03c9774d7')\"\n",
              "            title=\"Convert this dataframe to an interactive table.\"\n",
              "            style=\"display:none;\">\n",
              "\n",
              "  <svg xmlns=\"http://www.w3.org/2000/svg\" height=\"24px\" viewBox=\"0 -960 960 960\">\n",
              "    <path d=\"M120-120v-720h720v720H120Zm60-500h600v-160H180v160Zm220 220h160v-160H400v160Zm0 220h160v-160H400v160ZM180-400h160v-160H180v160Zm440 0h160v-160H620v160ZM180-180h160v-160H180v160Zm440 0h160v-160H620v160Z\"/>\n",
              "  </svg>\n",
              "    </button>\n",
              "\n",
              "  <style>\n",
              "    .colab-df-container {\n",
              "      display:flex;\n",
              "      gap: 12px;\n",
              "    }\n",
              "\n",
              "    .colab-df-convert {\n",
              "      background-color: #E8F0FE;\n",
              "      border: none;\n",
              "      border-radius: 50%;\n",
              "      cursor: pointer;\n",
              "      display: none;\n",
              "      fill: #1967D2;\n",
              "      height: 32px;\n",
              "      padding: 0 0 0 0;\n",
              "      width: 32px;\n",
              "    }\n",
              "\n",
              "    .colab-df-convert:hover {\n",
              "      background-color: #E2EBFA;\n",
              "      box-shadow: 0px 1px 2px rgba(60, 64, 67, 0.3), 0px 1px 3px 1px rgba(60, 64, 67, 0.15);\n",
              "      fill: #174EA6;\n",
              "    }\n",
              "\n",
              "    .colab-df-buttons div {\n",
              "      margin-bottom: 4px;\n",
              "    }\n",
              "\n",
              "    [theme=dark] .colab-df-convert {\n",
              "      background-color: #3B4455;\n",
              "      fill: #D2E3FC;\n",
              "    }\n",
              "\n",
              "    [theme=dark] .colab-df-convert:hover {\n",
              "      background-color: #434B5C;\n",
              "      box-shadow: 0px 1px 3px 1px rgba(0, 0, 0, 0.15);\n",
              "      filter: drop-shadow(0px 1px 2px rgba(0, 0, 0, 0.3));\n",
              "      fill: #FFFFFF;\n",
              "    }\n",
              "  </style>\n",
              "\n",
              "    <script>\n",
              "      const buttonEl =\n",
              "        document.querySelector('#df-a188e9bc-20f3-4596-ace5-f9b03c9774d7 button.colab-df-convert');\n",
              "      buttonEl.style.display =\n",
              "        google.colab.kernel.accessAllowed ? 'block' : 'none';\n",
              "\n",
              "      async function convertToInteractive(key) {\n",
              "        const element = document.querySelector('#df-a188e9bc-20f3-4596-ace5-f9b03c9774d7');\n",
              "        const dataTable =\n",
              "          await google.colab.kernel.invokeFunction('convertToInteractive',\n",
              "                                                    [key], {});\n",
              "        if (!dataTable) return;\n",
              "\n",
              "        const docLinkHtml = 'Like what you see? Visit the ' +\n",
              "          '<a target=\"_blank\" href=https://colab.research.google.com/notebooks/data_table.ipynb>data table notebook</a>'\n",
              "          + ' to learn more about interactive tables.';\n",
              "        element.innerHTML = '';\n",
              "        dataTable['output_type'] = 'display_data';\n",
              "        await google.colab.output.renderOutput(dataTable, element);\n",
              "        const docLink = document.createElement('div');\n",
              "        docLink.innerHTML = docLinkHtml;\n",
              "        element.appendChild(docLink);\n",
              "      }\n",
              "    </script>\n",
              "  </div>\n",
              "\n",
              "\n",
              "<div id=\"df-81a40e30-ecb1-4230-a59c-900423e0eab5\">\n",
              "  <button class=\"colab-df-quickchart\" onclick=\"quickchart('df-81a40e30-ecb1-4230-a59c-900423e0eab5')\"\n",
              "            title=\"Suggest charts\"\n",
              "            style=\"display:none;\">\n",
              "\n",
              "<svg xmlns=\"http://www.w3.org/2000/svg\" height=\"24px\"viewBox=\"0 0 24 24\"\n",
              "     width=\"24px\">\n",
              "    <g>\n",
              "        <path d=\"M19 3H5c-1.1 0-2 .9-2 2v14c0 1.1.9 2 2 2h14c1.1 0 2-.9 2-2V5c0-1.1-.9-2-2-2zM9 17H7v-7h2v7zm4 0h-2V7h2v10zm4 0h-2v-4h2v4z\"/>\n",
              "    </g>\n",
              "</svg>\n",
              "  </button>\n",
              "\n",
              "<style>\n",
              "  .colab-df-quickchart {\n",
              "      --bg-color: #E8F0FE;\n",
              "      --fill-color: #1967D2;\n",
              "      --hover-bg-color: #E2EBFA;\n",
              "      --hover-fill-color: #174EA6;\n",
              "      --disabled-fill-color: #AAA;\n",
              "      --disabled-bg-color: #DDD;\n",
              "  }\n",
              "\n",
              "  [theme=dark] .colab-df-quickchart {\n",
              "      --bg-color: #3B4455;\n",
              "      --fill-color: #D2E3FC;\n",
              "      --hover-bg-color: #434B5C;\n",
              "      --hover-fill-color: #FFFFFF;\n",
              "      --disabled-bg-color: #3B4455;\n",
              "      --disabled-fill-color: #666;\n",
              "  }\n",
              "\n",
              "  .colab-df-quickchart {\n",
              "    background-color: var(--bg-color);\n",
              "    border: none;\n",
              "    border-radius: 50%;\n",
              "    cursor: pointer;\n",
              "    display: none;\n",
              "    fill: var(--fill-color);\n",
              "    height: 32px;\n",
              "    padding: 0;\n",
              "    width: 32px;\n",
              "  }\n",
              "\n",
              "  .colab-df-quickchart:hover {\n",
              "    background-color: var(--hover-bg-color);\n",
              "    box-shadow: 0 1px 2px rgba(60, 64, 67, 0.3), 0 1px 3px 1px rgba(60, 64, 67, 0.15);\n",
              "    fill: var(--button-hover-fill-color);\n",
              "  }\n",
              "\n",
              "  .colab-df-quickchart-complete:disabled,\n",
              "  .colab-df-quickchart-complete:disabled:hover {\n",
              "    background-color: var(--disabled-bg-color);\n",
              "    fill: var(--disabled-fill-color);\n",
              "    box-shadow: none;\n",
              "  }\n",
              "\n",
              "  .colab-df-spinner {\n",
              "    border: 2px solid var(--fill-color);\n",
              "    border-color: transparent;\n",
              "    border-bottom-color: var(--fill-color);\n",
              "    animation:\n",
              "      spin 1s steps(1) infinite;\n",
              "  }\n",
              "\n",
              "  @keyframes spin {\n",
              "    0% {\n",
              "      border-color: transparent;\n",
              "      border-bottom-color: var(--fill-color);\n",
              "      border-left-color: var(--fill-color);\n",
              "    }\n",
              "    20% {\n",
              "      border-color: transparent;\n",
              "      border-left-color: var(--fill-color);\n",
              "      border-top-color: var(--fill-color);\n",
              "    }\n",
              "    30% {\n",
              "      border-color: transparent;\n",
              "      border-left-color: var(--fill-color);\n",
              "      border-top-color: var(--fill-color);\n",
              "      border-right-color: var(--fill-color);\n",
              "    }\n",
              "    40% {\n",
              "      border-color: transparent;\n",
              "      border-right-color: var(--fill-color);\n",
              "      border-top-color: var(--fill-color);\n",
              "    }\n",
              "    60% {\n",
              "      border-color: transparent;\n",
              "      border-right-color: var(--fill-color);\n",
              "    }\n",
              "    80% {\n",
              "      border-color: transparent;\n",
              "      border-right-color: var(--fill-color);\n",
              "      border-bottom-color: var(--fill-color);\n",
              "    }\n",
              "    90% {\n",
              "      border-color: transparent;\n",
              "      border-bottom-color: var(--fill-color);\n",
              "    }\n",
              "  }\n",
              "</style>\n",
              "\n",
              "  <script>\n",
              "    async function quickchart(key) {\n",
              "      const quickchartButtonEl =\n",
              "        document.querySelector('#' + key + ' button');\n",
              "      quickchartButtonEl.disabled = true;  // To prevent multiple clicks.\n",
              "      quickchartButtonEl.classList.add('colab-df-spinner');\n",
              "      try {\n",
              "        const charts = await google.colab.kernel.invokeFunction(\n",
              "            'suggestCharts', [key], {});\n",
              "      } catch (error) {\n",
              "        console.error('Error during call to suggestCharts:', error);\n",
              "      }\n",
              "      quickchartButtonEl.classList.remove('colab-df-spinner');\n",
              "      quickchartButtonEl.classList.add('colab-df-quickchart-complete');\n",
              "    }\n",
              "    (() => {\n",
              "      let quickchartButtonEl =\n",
              "        document.querySelector('#df-81a40e30-ecb1-4230-a59c-900423e0eab5 button');\n",
              "      quickchartButtonEl.style.display =\n",
              "        google.colab.kernel.accessAllowed ? 'block' : 'none';\n",
              "    })();\n",
              "  </script>\n",
              "</div>\n",
              "\n",
              "    </div>\n",
              "  </div>\n"
            ],
            "application/vnd.google.colaboratory.intrinsic+json": {
              "type": "dataframe",
              "variable_name": "df",
              "summary": "{\n  \"name\": \"df\",\n  \"rows\": 721,\n  \"fields\": [\n    {\n      \"column\": \"Timestamp\",\n      \"properties\": {\n        \"dtype\": \"number\",\n        \"std\": 749832425,\n        \"min\": 1733349809095,\n        \"max\": 1735940047000,\n        \"num_unique_values\": 721,\n        \"samples\": [\n          1734282224812,\n          1735718628424,\n          1733627006418\n        ],\n        \"semantic_type\": \"\",\n        \"description\": \"\"\n      }\n    },\n    {\n      \"column\": \"Price\",\n      \"properties\": {\n        \"dtype\": \"number\",\n        \"std\": 3584.3268793318475,\n        \"min\": 91816.86482854123,\n        \"max\": 108134.70395538819,\n        \"num_unique_values\": 721,\n        \"samples\": [\n          103035.69724768725,\n          93473.87147135605,\n          100196.2140093384\n        ],\n        \"semantic_type\": \"\",\n        \"description\": \"\"\n      }\n    },\n    {\n      \"column\": \"Date\",\n      \"properties\": {\n        \"dtype\": \"date\",\n        \"min\": \"2024-12-04 22:03:29.095000\",\n        \"max\": \"2025-01-03 21:34:07\",\n        \"num_unique_values\": 721,\n        \"samples\": [\n          \"2024-12-15 17:03:44.812000\",\n          \"2025-01-01 08:03:48.424000\",\n          \"2024-12-08 03:03:26.418000\"\n        ],\n        \"semantic_type\": \"\",\n        \"description\": \"\"\n      }\n    }\n  ]\n}"
            }
          },
          "metadata": {},
          "execution_count": 39
        }
      ]
    },
    {
      "cell_type": "code",
      "source": [
        "candlestick_data = df.groupby(df['Date'].dt.date).agg({'Price': ['min', 'max', 'first', 'last']})\n",
        "candlestick_data.head()"
      ],
      "metadata": {
        "colab": {
          "base_uri": "https://localhost:8080/",
          "height": 269
        },
        "id": "_RHI4ODjEC3S",
        "outputId": "d10f68b6-cb46-4634-ead5-34d79d6720ab"
      },
      "execution_count": null,
      "outputs": [
        {
          "output_type": "execute_result",
          "data": {
            "text/plain": [
              "                   Price                                            \n",
              "                     min            max         first           last\n",
              "Date                                                                \n",
              "2024-12-04  97894.625911   98380.455077  97894.625911   98380.455077\n",
              "2024-12-05  96489.621485  103606.802840  98881.469456   96489.621485\n",
              "2024-12-06  97071.794751  101590.521373  97071.794751  100648.833175\n",
              "2024-12-07  99260.728938  100408.745127  99928.055215   99714.622195\n",
              "2024-12-08  98929.928446  100464.256853  99781.829992  100312.691496"
            ],
            "text/html": [
              "\n",
              "  <div id=\"df-4ef91119-25f8-4fbc-adf5-f56508f51e26\" class=\"colab-df-container\">\n",
              "    <div>\n",
              "<style scoped>\n",
              "    .dataframe tbody tr th:only-of-type {\n",
              "        vertical-align: middle;\n",
              "    }\n",
              "\n",
              "    .dataframe tbody tr th {\n",
              "        vertical-align: top;\n",
              "    }\n",
              "\n",
              "    .dataframe thead tr th {\n",
              "        text-align: left;\n",
              "    }\n",
              "\n",
              "    .dataframe thead tr:last-of-type th {\n",
              "        text-align: right;\n",
              "    }\n",
              "</style>\n",
              "<table border=\"1\" class=\"dataframe\">\n",
              "  <thead>\n",
              "    <tr>\n",
              "      <th></th>\n",
              "      <th colspan=\"4\" halign=\"left\">Price</th>\n",
              "    </tr>\n",
              "    <tr>\n",
              "      <th></th>\n",
              "      <th>min</th>\n",
              "      <th>max</th>\n",
              "      <th>first</th>\n",
              "      <th>last</th>\n",
              "    </tr>\n",
              "    <tr>\n",
              "      <th>Date</th>\n",
              "      <th></th>\n",
              "      <th></th>\n",
              "      <th></th>\n",
              "      <th></th>\n",
              "    </tr>\n",
              "  </thead>\n",
              "  <tbody>\n",
              "    <tr>\n",
              "      <th>2024-12-04</th>\n",
              "      <td>97894.625911</td>\n",
              "      <td>98380.455077</td>\n",
              "      <td>97894.625911</td>\n",
              "      <td>98380.455077</td>\n",
              "    </tr>\n",
              "    <tr>\n",
              "      <th>2024-12-05</th>\n",
              "      <td>96489.621485</td>\n",
              "      <td>103606.802840</td>\n",
              "      <td>98881.469456</td>\n",
              "      <td>96489.621485</td>\n",
              "    </tr>\n",
              "    <tr>\n",
              "      <th>2024-12-06</th>\n",
              "      <td>97071.794751</td>\n",
              "      <td>101590.521373</td>\n",
              "      <td>97071.794751</td>\n",
              "      <td>100648.833175</td>\n",
              "    </tr>\n",
              "    <tr>\n",
              "      <th>2024-12-07</th>\n",
              "      <td>99260.728938</td>\n",
              "      <td>100408.745127</td>\n",
              "      <td>99928.055215</td>\n",
              "      <td>99714.622195</td>\n",
              "    </tr>\n",
              "    <tr>\n",
              "      <th>2024-12-08</th>\n",
              "      <td>98929.928446</td>\n",
              "      <td>100464.256853</td>\n",
              "      <td>99781.829992</td>\n",
              "      <td>100312.691496</td>\n",
              "    </tr>\n",
              "  </tbody>\n",
              "</table>\n",
              "</div>\n",
              "    <div class=\"colab-df-buttons\">\n",
              "\n",
              "  <div class=\"colab-df-container\">\n",
              "    <button class=\"colab-df-convert\" onclick=\"convertToInteractive('df-4ef91119-25f8-4fbc-adf5-f56508f51e26')\"\n",
              "            title=\"Convert this dataframe to an interactive table.\"\n",
              "            style=\"display:none;\">\n",
              "\n",
              "  <svg xmlns=\"http://www.w3.org/2000/svg\" height=\"24px\" viewBox=\"0 -960 960 960\">\n",
              "    <path d=\"M120-120v-720h720v720H120Zm60-500h600v-160H180v160Zm220 220h160v-160H400v160Zm0 220h160v-160H400v160ZM180-400h160v-160H180v160Zm440 0h160v-160H620v160ZM180-180h160v-160H180v160Zm440 0h160v-160H620v160Z\"/>\n",
              "  </svg>\n",
              "    </button>\n",
              "\n",
              "  <style>\n",
              "    .colab-df-container {\n",
              "      display:flex;\n",
              "      gap: 12px;\n",
              "    }\n",
              "\n",
              "    .colab-df-convert {\n",
              "      background-color: #E8F0FE;\n",
              "      border: none;\n",
              "      border-radius: 50%;\n",
              "      cursor: pointer;\n",
              "      display: none;\n",
              "      fill: #1967D2;\n",
              "      height: 32px;\n",
              "      padding: 0 0 0 0;\n",
              "      width: 32px;\n",
              "    }\n",
              "\n",
              "    .colab-df-convert:hover {\n",
              "      background-color: #E2EBFA;\n",
              "      box-shadow: 0px 1px 2px rgba(60, 64, 67, 0.3), 0px 1px 3px 1px rgba(60, 64, 67, 0.15);\n",
              "      fill: #174EA6;\n",
              "    }\n",
              "\n",
              "    .colab-df-buttons div {\n",
              "      margin-bottom: 4px;\n",
              "    }\n",
              "\n",
              "    [theme=dark] .colab-df-convert {\n",
              "      background-color: #3B4455;\n",
              "      fill: #D2E3FC;\n",
              "    }\n",
              "\n",
              "    [theme=dark] .colab-df-convert:hover {\n",
              "      background-color: #434B5C;\n",
              "      box-shadow: 0px 1px 3px 1px rgba(0, 0, 0, 0.15);\n",
              "      filter: drop-shadow(0px 1px 2px rgba(0, 0, 0, 0.3));\n",
              "      fill: #FFFFFF;\n",
              "    }\n",
              "  </style>\n",
              "\n",
              "    <script>\n",
              "      const buttonEl =\n",
              "        document.querySelector('#df-4ef91119-25f8-4fbc-adf5-f56508f51e26 button.colab-df-convert');\n",
              "      buttonEl.style.display =\n",
              "        google.colab.kernel.accessAllowed ? 'block' : 'none';\n",
              "\n",
              "      async function convertToInteractive(key) {\n",
              "        const element = document.querySelector('#df-4ef91119-25f8-4fbc-adf5-f56508f51e26');\n",
              "        const dataTable =\n",
              "          await google.colab.kernel.invokeFunction('convertToInteractive',\n",
              "                                                    [key], {});\n",
              "        if (!dataTable) return;\n",
              "\n",
              "        const docLinkHtml = 'Like what you see? Visit the ' +\n",
              "          '<a target=\"_blank\" href=https://colab.research.google.com/notebooks/data_table.ipynb>data table notebook</a>'\n",
              "          + ' to learn more about interactive tables.';\n",
              "        element.innerHTML = '';\n",
              "        dataTable['output_type'] = 'display_data';\n",
              "        await google.colab.output.renderOutput(dataTable, element);\n",
              "        const docLink = document.createElement('div');\n",
              "        docLink.innerHTML = docLinkHtml;\n",
              "        element.appendChild(docLink);\n",
              "      }\n",
              "    </script>\n",
              "  </div>\n",
              "\n",
              "\n",
              "<div id=\"df-a7f5dbd0-4d91-4818-8242-3dc7efe41c59\">\n",
              "  <button class=\"colab-df-quickchart\" onclick=\"quickchart('df-a7f5dbd0-4d91-4818-8242-3dc7efe41c59')\"\n",
              "            title=\"Suggest charts\"\n",
              "            style=\"display:none;\">\n",
              "\n",
              "<svg xmlns=\"http://www.w3.org/2000/svg\" height=\"24px\"viewBox=\"0 0 24 24\"\n",
              "     width=\"24px\">\n",
              "    <g>\n",
              "        <path d=\"M19 3H5c-1.1 0-2 .9-2 2v14c0 1.1.9 2 2 2h14c1.1 0 2-.9 2-2V5c0-1.1-.9-2-2-2zM9 17H7v-7h2v7zm4 0h-2V7h2v10zm4 0h-2v-4h2v4z\"/>\n",
              "    </g>\n",
              "</svg>\n",
              "  </button>\n",
              "\n",
              "<style>\n",
              "  .colab-df-quickchart {\n",
              "      --bg-color: #E8F0FE;\n",
              "      --fill-color: #1967D2;\n",
              "      --hover-bg-color: #E2EBFA;\n",
              "      --hover-fill-color: #174EA6;\n",
              "      --disabled-fill-color: #AAA;\n",
              "      --disabled-bg-color: #DDD;\n",
              "  }\n",
              "\n",
              "  [theme=dark] .colab-df-quickchart {\n",
              "      --bg-color: #3B4455;\n",
              "      --fill-color: #D2E3FC;\n",
              "      --hover-bg-color: #434B5C;\n",
              "      --hover-fill-color: #FFFFFF;\n",
              "      --disabled-bg-color: #3B4455;\n",
              "      --disabled-fill-color: #666;\n",
              "  }\n",
              "\n",
              "  .colab-df-quickchart {\n",
              "    background-color: var(--bg-color);\n",
              "    border: none;\n",
              "    border-radius: 50%;\n",
              "    cursor: pointer;\n",
              "    display: none;\n",
              "    fill: var(--fill-color);\n",
              "    height: 32px;\n",
              "    padding: 0;\n",
              "    width: 32px;\n",
              "  }\n",
              "\n",
              "  .colab-df-quickchart:hover {\n",
              "    background-color: var(--hover-bg-color);\n",
              "    box-shadow: 0 1px 2px rgba(60, 64, 67, 0.3), 0 1px 3px 1px rgba(60, 64, 67, 0.15);\n",
              "    fill: var(--button-hover-fill-color);\n",
              "  }\n",
              "\n",
              "  .colab-df-quickchart-complete:disabled,\n",
              "  .colab-df-quickchart-complete:disabled:hover {\n",
              "    background-color: var(--disabled-bg-color);\n",
              "    fill: var(--disabled-fill-color);\n",
              "    box-shadow: none;\n",
              "  }\n",
              "\n",
              "  .colab-df-spinner {\n",
              "    border: 2px solid var(--fill-color);\n",
              "    border-color: transparent;\n",
              "    border-bottom-color: var(--fill-color);\n",
              "    animation:\n",
              "      spin 1s steps(1) infinite;\n",
              "  }\n",
              "\n",
              "  @keyframes spin {\n",
              "    0% {\n",
              "      border-color: transparent;\n",
              "      border-bottom-color: var(--fill-color);\n",
              "      border-left-color: var(--fill-color);\n",
              "    }\n",
              "    20% {\n",
              "      border-color: transparent;\n",
              "      border-left-color: var(--fill-color);\n",
              "      border-top-color: var(--fill-color);\n",
              "    }\n",
              "    30% {\n",
              "      border-color: transparent;\n",
              "      border-left-color: var(--fill-color);\n",
              "      border-top-color: var(--fill-color);\n",
              "      border-right-color: var(--fill-color);\n",
              "    }\n",
              "    40% {\n",
              "      border-color: transparent;\n",
              "      border-right-color: var(--fill-color);\n",
              "      border-top-color: var(--fill-color);\n",
              "    }\n",
              "    60% {\n",
              "      border-color: transparent;\n",
              "      border-right-color: var(--fill-color);\n",
              "    }\n",
              "    80% {\n",
              "      border-color: transparent;\n",
              "      border-right-color: var(--fill-color);\n",
              "      border-bottom-color: var(--fill-color);\n",
              "    }\n",
              "    90% {\n",
              "      border-color: transparent;\n",
              "      border-bottom-color: var(--fill-color);\n",
              "    }\n",
              "  }\n",
              "</style>\n",
              "\n",
              "  <script>\n",
              "    async function quickchart(key) {\n",
              "      const quickchartButtonEl =\n",
              "        document.querySelector('#' + key + ' button');\n",
              "      quickchartButtonEl.disabled = true;  // To prevent multiple clicks.\n",
              "      quickchartButtonEl.classList.add('colab-df-spinner');\n",
              "      try {\n",
              "        const charts = await google.colab.kernel.invokeFunction(\n",
              "            'suggestCharts', [key], {});\n",
              "      } catch (error) {\n",
              "        console.error('Error during call to suggestCharts:', error);\n",
              "      }\n",
              "      quickchartButtonEl.classList.remove('colab-df-spinner');\n",
              "      quickchartButtonEl.classList.add('colab-df-quickchart-complete');\n",
              "    }\n",
              "    (() => {\n",
              "      let quickchartButtonEl =\n",
              "        document.querySelector('#df-a7f5dbd0-4d91-4818-8242-3dc7efe41c59 button');\n",
              "      quickchartButtonEl.style.display =\n",
              "        google.colab.kernel.accessAllowed ? 'block' : 'none';\n",
              "    })();\n",
              "  </script>\n",
              "</div>\n",
              "\n",
              "    </div>\n",
              "  </div>\n"
            ],
            "application/vnd.google.colaboratory.intrinsic+json": {
              "type": "dataframe",
              "variable_name": "candlestick_data",
              "summary": "{\n  \"name\": \"candlestick_data\",\n  \"rows\": 31,\n  \"fields\": [\n    {\n      \"column\": [\n        \"Date\",\n        \"\"\n      ],\n      \"properties\": {\n        \"dtype\": \"date\",\n        \"min\": \"2024-12-04\",\n        \"max\": \"2025-01-03\",\n        \"num_unique_values\": 31,\n        \"samples\": [\n          \"2024-12-31\",\n          \"2024-12-19\",\n          \"2024-12-27\"\n        ],\n        \"semantic_type\": \"\",\n        \"description\": \"\"\n      }\n    },\n    {\n      \"column\": [\n        \"Price\",\n        \"min\"\n      ],\n      \"properties\": {\n        \"dtype\": \"number\",\n        \"std\": 3470.3262025623508,\n        \"min\": 91816.86482854123,\n        \"max\": 105934.65392664201,\n        \"num_unique_values\": 31,\n        \"samples\": [\n          92230.48790697765,\n          96448.90175250097,\n          94017.7388050886\n        ],\n        \"semantic_type\": \"\",\n        \"description\": \"\"\n      }\n    },\n    {\n      \"column\": [\n        \"Price\",\n        \"max\"\n      ],\n      \"properties\": {\n        \"dtype\": \"number\",\n        \"std\": 3542.6186481641876,\n        \"min\": 94452.47154334911,\n        \"max\": 108134.70395538819,\n        \"num_unique_values\": 31,\n        \"samples\": [\n          95797.4221530335,\n          102392.35475315936,\n          96677.62912386365\n        ],\n        \"semantic_type\": \"\",\n        \"description\": \"\"\n      }\n    },\n    {\n      \"column\": [\n        \"Price\",\n        \"first\"\n      ],\n      \"properties\": {\n        \"dtype\": \"number\",\n        \"std\": 3520.4060983339523,\n        \"min\": 92666.27265159723,\n        \"max\": 106090.34824764448,\n        \"num_unique_values\": 31,\n        \"samples\": [\n          92666.27265159723,\n          100590.40674241254,\n          95634.02848477298\n        ],\n        \"semantic_type\": \"\",\n        \"description\": \"\"\n      }\n    },\n    {\n      \"column\": [\n        \"Price\",\n        \"last\"\n      ],\n      \"properties\": {\n        \"dtype\": \"number\",\n        \"std\": 3447.215926639826,\n        \"min\": 92423.43263786552,\n        \"max\": 105991.35725127581,\n        \"num_unique_values\": 31,\n        \"samples\": [\n          93302.2371282602,\n          98136.51932716771,\n          94286.96169694321\n        ],\n        \"semantic_type\": \"\",\n        \"description\": \"\"\n      }\n    }\n  ]\n}"
            }
          },
          "metadata": {},
          "execution_count": 42
        }
      ]
    },
    {
      "cell_type": "code",
      "source": [
        "import plotly.graph_objects as go\n",
        "fig = go.Figure(data = [\n",
        "    go.Candlestick(x=candlestick_data.index,\n",
        "                   open=candlestick_data['Price']['first'],\n",
        "                   high=candlestick_data['Price']['max'],\n",
        "                   low=candlestick_data['Price']['min'],\n",
        "                   close=candlestick_data['Price']['last']\n",
        "                   )\n",
        "    ])\n",
        "fig.update_layout(xaxis_rangeslider_visible=False,\n",
        "                  xaxis_title = 'Date',\n",
        "                  yaxis_title = 'Price (USD $)',\n",
        "                  title = 'Bitcoin Price (Past 30 Days)')\n",
        "fig.show()\n"
      ],
      "metadata": {
        "colab": {
          "base_uri": "https://localhost:8080/",
          "height": 542
        },
        "id": "zECsfuqDGFjp",
        "outputId": "31fa4c73-7fc1-45b8-9b71-61b9a9020698"
      },
      "execution_count": null,
      "outputs": [
        {
          "output_type": "display_data",
          "data": {
            "text/html": [
              "<html>\n",
              "<head><meta charset=\"utf-8\" /></head>\n",
              "<body>\n",
              "    <div>            <script src=\"https://cdnjs.cloudflare.com/ajax/libs/mathjax/2.7.5/MathJax.js?config=TeX-AMS-MML_SVG\"></script><script type=\"text/javascript\">if (window.MathJax && window.MathJax.Hub && window.MathJax.Hub.Config) {window.MathJax.Hub.Config({SVG: {font: \"STIX-Web\"}});}</script>                <script type=\"text/javascript\">window.PlotlyConfig = {MathJaxConfig: 'local'};</script>\n",
              "        <script charset=\"utf-8\" src=\"https://cdn.plot.ly/plotly-2.35.2.min.js\"></script>                <div id=\"8192e271-ed2c-4721-b42f-43bbe8e6c91a\" class=\"plotly-graph-div\" style=\"height:525px; width:100%;\"></div>            <script type=\"text/javascript\">                                    window.PLOTLYENV=window.PLOTLYENV || {};                                    if (document.getElementById(\"8192e271-ed2c-4721-b42f-43bbe8e6c91a\")) {                    Plotly.newPlot(                        \"8192e271-ed2c-4721-b42f-43bbe8e6c91a\",                        [{\"close\":[98380.45507703637,96489.62148540479,100648.83317503057,99714.62219537982,100312.69149646896,96985.94363974527,97144.5402258447,101270.6379619385,100440.44144022003,101296.08420824334,101064.1258180627,103299.66293670298,105810.63129202551,105991.35725127581,101083.02779137746,98136.51932716771,97430.35276861327,97048.2053474754,95454.72024777101,95155.9932938399,98758.15555154771,99141.93981786452,95314.47518015576,94286.96169694321,95276.23251610585,92868.96449068608,92423.43263786552,93302.2371282602,94557.49630834152,96839.91368038654,98303.5710452365],\"high\":[98380.45507703637,103606.80283966633,101590.52137336919,100408.74512687804,100464.25685327388,101200.19297467085,98018.51319323164,101646.8874292423,101960.73234131302,101744.12465323649,102136.61848405775,103299.66293670298,106993.98136116777,108134.70395538819,106149.11340029488,102392.35475315936,97851.35377075805,99063.71975920832,97244.35762866863,96386.0794422067,98943.52498215239,99144.05633754666,99344.95417367229,96677.62912386365,95276.23251610585,95113.31332635686,94452.47154334911,95797.4221530335,94783.15438564416,97433.16006615898,98547.4354983168],\"low\":[97894.62591077255,96489.62148540479,97071.79475131465,99260.72893790831,98929.92844600427,96202.22140258037,94561.73726601216,95740.9358358451,99491.35763334374,99361.7584775802,100790.18891772504,101393.1996919875,103569.92156219382,105934.65392664201,100808.59929784118,96448.90175250097,92805.75666996102,96941.26398149885,94642.4145986112,92628.82282918232,93696.2286655834,97799.22367036463,95280.08348787813,94017.7388050886,94188.33183566765,92868.96449068608,91816.86482854123,92230.48790697765,93051.98323230208,94384.1761153871,96010.07539005707],\"open\":[97894.62591077255,98881.4694561823,97071.79475131465,99928.05521481452,99781.82999198174,101200.19297467085,97166.10106772359,96643.1319918391,101204.95194576346,100006.33728156584,101352.22971292294,101393.1996919875,104721.50151808978,106090.34824764448,106034.913402645,100590.40674241254,97851.35377075805,97691.43431692653,97244.35762866863,95110.22476004054,94783.55282299334,98695.71400782601,99344.95417367229,95634.02848477298,94188.33183566765,95069.29796635783,93467.14705911094,92666.27265159723,93507.85874741491,94384.1761153871,96897.89773864347],\"x\":[\"2024-12-04\",\"2024-12-05\",\"2024-12-06\",\"2024-12-07\",\"2024-12-08\",\"2024-12-09\",\"2024-12-10\",\"2024-12-11\",\"2024-12-12\",\"2024-12-13\",\"2024-12-14\",\"2024-12-15\",\"2024-12-16\",\"2024-12-17\",\"2024-12-18\",\"2024-12-19\",\"2024-12-20\",\"2024-12-21\",\"2024-12-22\",\"2024-12-23\",\"2024-12-24\",\"2024-12-25\",\"2024-12-26\",\"2024-12-27\",\"2024-12-28\",\"2024-12-29\",\"2024-12-30\",\"2024-12-31\",\"2025-01-01\",\"2025-01-02\",\"2025-01-03\"],\"type\":\"candlestick\"}],                        {\"template\":{\"data\":{\"histogram2dcontour\":[{\"type\":\"histogram2dcontour\",\"colorbar\":{\"outlinewidth\":0,\"ticks\":\"\"},\"colorscale\":[[0.0,\"#0d0887\"],[0.1111111111111111,\"#46039f\"],[0.2222222222222222,\"#7201a8\"],[0.3333333333333333,\"#9c179e\"],[0.4444444444444444,\"#bd3786\"],[0.5555555555555556,\"#d8576b\"],[0.6666666666666666,\"#ed7953\"],[0.7777777777777778,\"#fb9f3a\"],[0.8888888888888888,\"#fdca26\"],[1.0,\"#f0f921\"]]}],\"choropleth\":[{\"type\":\"choropleth\",\"colorbar\":{\"outlinewidth\":0,\"ticks\":\"\"}}],\"histogram2d\":[{\"type\":\"histogram2d\",\"colorbar\":{\"outlinewidth\":0,\"ticks\":\"\"},\"colorscale\":[[0.0,\"#0d0887\"],[0.1111111111111111,\"#46039f\"],[0.2222222222222222,\"#7201a8\"],[0.3333333333333333,\"#9c179e\"],[0.4444444444444444,\"#bd3786\"],[0.5555555555555556,\"#d8576b\"],[0.6666666666666666,\"#ed7953\"],[0.7777777777777778,\"#fb9f3a\"],[0.8888888888888888,\"#fdca26\"],[1.0,\"#f0f921\"]]}],\"heatmap\":[{\"type\":\"heatmap\",\"colorbar\":{\"outlinewidth\":0,\"ticks\":\"\"},\"colorscale\":[[0.0,\"#0d0887\"],[0.1111111111111111,\"#46039f\"],[0.2222222222222222,\"#7201a8\"],[0.3333333333333333,\"#9c179e\"],[0.4444444444444444,\"#bd3786\"],[0.5555555555555556,\"#d8576b\"],[0.6666666666666666,\"#ed7953\"],[0.7777777777777778,\"#fb9f3a\"],[0.8888888888888888,\"#fdca26\"],[1.0,\"#f0f921\"]]}],\"heatmapgl\":[{\"type\":\"heatmapgl\",\"colorbar\":{\"outlinewidth\":0,\"ticks\":\"\"},\"colorscale\":[[0.0,\"#0d0887\"],[0.1111111111111111,\"#46039f\"],[0.2222222222222222,\"#7201a8\"],[0.3333333333333333,\"#9c179e\"],[0.4444444444444444,\"#bd3786\"],[0.5555555555555556,\"#d8576b\"],[0.6666666666666666,\"#ed7953\"],[0.7777777777777778,\"#fb9f3a\"],[0.8888888888888888,\"#fdca26\"],[1.0,\"#f0f921\"]]}],\"contourcarpet\":[{\"type\":\"contourcarpet\",\"colorbar\":{\"outlinewidth\":0,\"ticks\":\"\"}}],\"contour\":[{\"type\":\"contour\",\"colorbar\":{\"outlinewidth\":0,\"ticks\":\"\"},\"colorscale\":[[0.0,\"#0d0887\"],[0.1111111111111111,\"#46039f\"],[0.2222222222222222,\"#7201a8\"],[0.3333333333333333,\"#9c179e\"],[0.4444444444444444,\"#bd3786\"],[0.5555555555555556,\"#d8576b\"],[0.6666666666666666,\"#ed7953\"],[0.7777777777777778,\"#fb9f3a\"],[0.8888888888888888,\"#fdca26\"],[1.0,\"#f0f921\"]]}],\"surface\":[{\"type\":\"surface\",\"colorbar\":{\"outlinewidth\":0,\"ticks\":\"\"},\"colorscale\":[[0.0,\"#0d0887\"],[0.1111111111111111,\"#46039f\"],[0.2222222222222222,\"#7201a8\"],[0.3333333333333333,\"#9c179e\"],[0.4444444444444444,\"#bd3786\"],[0.5555555555555556,\"#d8576b\"],[0.6666666666666666,\"#ed7953\"],[0.7777777777777778,\"#fb9f3a\"],[0.8888888888888888,\"#fdca26\"],[1.0,\"#f0f921\"]]}],\"mesh3d\":[{\"type\":\"mesh3d\",\"colorbar\":{\"outlinewidth\":0,\"ticks\":\"\"}}],\"scatter\":[{\"fillpattern\":{\"fillmode\":\"overlay\",\"size\":10,\"solidity\":0.2},\"type\":\"scatter\"}],\"parcoords\":[{\"type\":\"parcoords\",\"line\":{\"colorbar\":{\"outlinewidth\":0,\"ticks\":\"\"}}}],\"scatterpolargl\":[{\"type\":\"scatterpolargl\",\"marker\":{\"colorbar\":{\"outlinewidth\":0,\"ticks\":\"\"}}}],\"bar\":[{\"error_x\":{\"color\":\"#2a3f5f\"},\"error_y\":{\"color\":\"#2a3f5f\"},\"marker\":{\"line\":{\"color\":\"#E5ECF6\",\"width\":0.5},\"pattern\":{\"fillmode\":\"overlay\",\"size\":10,\"solidity\":0.2}},\"type\":\"bar\"}],\"scattergeo\":[{\"type\":\"scattergeo\",\"marker\":{\"colorbar\":{\"outlinewidth\":0,\"ticks\":\"\"}}}],\"scatterpolar\":[{\"type\":\"scatterpolar\",\"marker\":{\"colorbar\":{\"outlinewidth\":0,\"ticks\":\"\"}}}],\"histogram\":[{\"marker\":{\"pattern\":{\"fillmode\":\"overlay\",\"size\":10,\"solidity\":0.2}},\"type\":\"histogram\"}],\"scattergl\":[{\"type\":\"scattergl\",\"marker\":{\"colorbar\":{\"outlinewidth\":0,\"ticks\":\"\"}}}],\"scatter3d\":[{\"type\":\"scatter3d\",\"line\":{\"colorbar\":{\"outlinewidth\":0,\"ticks\":\"\"}},\"marker\":{\"colorbar\":{\"outlinewidth\":0,\"ticks\":\"\"}}}],\"scattermapbox\":[{\"type\":\"scattermapbox\",\"marker\":{\"colorbar\":{\"outlinewidth\":0,\"ticks\":\"\"}}}],\"scatterternary\":[{\"type\":\"scatterternary\",\"marker\":{\"colorbar\":{\"outlinewidth\":0,\"ticks\":\"\"}}}],\"scattercarpet\":[{\"type\":\"scattercarpet\",\"marker\":{\"colorbar\":{\"outlinewidth\":0,\"ticks\":\"\"}}}],\"carpet\":[{\"aaxis\":{\"endlinecolor\":\"#2a3f5f\",\"gridcolor\":\"white\",\"linecolor\":\"white\",\"minorgridcolor\":\"white\",\"startlinecolor\":\"#2a3f5f\"},\"baxis\":{\"endlinecolor\":\"#2a3f5f\",\"gridcolor\":\"white\",\"linecolor\":\"white\",\"minorgridcolor\":\"white\",\"startlinecolor\":\"#2a3f5f\"},\"type\":\"carpet\"}],\"table\":[{\"cells\":{\"fill\":{\"color\":\"#EBF0F8\"},\"line\":{\"color\":\"white\"}},\"header\":{\"fill\":{\"color\":\"#C8D4E3\"},\"line\":{\"color\":\"white\"}},\"type\":\"table\"}],\"barpolar\":[{\"marker\":{\"line\":{\"color\":\"#E5ECF6\",\"width\":0.5},\"pattern\":{\"fillmode\":\"overlay\",\"size\":10,\"solidity\":0.2}},\"type\":\"barpolar\"}],\"pie\":[{\"automargin\":true,\"type\":\"pie\"}]},\"layout\":{\"autotypenumbers\":\"strict\",\"colorway\":[\"#636efa\",\"#EF553B\",\"#00cc96\",\"#ab63fa\",\"#FFA15A\",\"#19d3f3\",\"#FF6692\",\"#B6E880\",\"#FF97FF\",\"#FECB52\"],\"font\":{\"color\":\"#2a3f5f\"},\"hovermode\":\"closest\",\"hoverlabel\":{\"align\":\"left\"},\"paper_bgcolor\":\"white\",\"plot_bgcolor\":\"#E5ECF6\",\"polar\":{\"bgcolor\":\"#E5ECF6\",\"angularaxis\":{\"gridcolor\":\"white\",\"linecolor\":\"white\",\"ticks\":\"\"},\"radialaxis\":{\"gridcolor\":\"white\",\"linecolor\":\"white\",\"ticks\":\"\"}},\"ternary\":{\"bgcolor\":\"#E5ECF6\",\"aaxis\":{\"gridcolor\":\"white\",\"linecolor\":\"white\",\"ticks\":\"\"},\"baxis\":{\"gridcolor\":\"white\",\"linecolor\":\"white\",\"ticks\":\"\"},\"caxis\":{\"gridcolor\":\"white\",\"linecolor\":\"white\",\"ticks\":\"\"}},\"coloraxis\":{\"colorbar\":{\"outlinewidth\":0,\"ticks\":\"\"}},\"colorscale\":{\"sequential\":[[0.0,\"#0d0887\"],[0.1111111111111111,\"#46039f\"],[0.2222222222222222,\"#7201a8\"],[0.3333333333333333,\"#9c179e\"],[0.4444444444444444,\"#bd3786\"],[0.5555555555555556,\"#d8576b\"],[0.6666666666666666,\"#ed7953\"],[0.7777777777777778,\"#fb9f3a\"],[0.8888888888888888,\"#fdca26\"],[1.0,\"#f0f921\"]],\"sequentialminus\":[[0.0,\"#0d0887\"],[0.1111111111111111,\"#46039f\"],[0.2222222222222222,\"#7201a8\"],[0.3333333333333333,\"#9c179e\"],[0.4444444444444444,\"#bd3786\"],[0.5555555555555556,\"#d8576b\"],[0.6666666666666666,\"#ed7953\"],[0.7777777777777778,\"#fb9f3a\"],[0.8888888888888888,\"#fdca26\"],[1.0,\"#f0f921\"]],\"diverging\":[[0,\"#8e0152\"],[0.1,\"#c51b7d\"],[0.2,\"#de77ae\"],[0.3,\"#f1b6da\"],[0.4,\"#fde0ef\"],[0.5,\"#f7f7f7\"],[0.6,\"#e6f5d0\"],[0.7,\"#b8e186\"],[0.8,\"#7fbc41\"],[0.9,\"#4d9221\"],[1,\"#276419\"]]},\"xaxis\":{\"gridcolor\":\"white\",\"linecolor\":\"white\",\"ticks\":\"\",\"title\":{\"standoff\":15},\"zerolinecolor\":\"white\",\"automargin\":true,\"zerolinewidth\":2},\"yaxis\":{\"gridcolor\":\"white\",\"linecolor\":\"white\",\"ticks\":\"\",\"title\":{\"standoff\":15},\"zerolinecolor\":\"white\",\"automargin\":true,\"zerolinewidth\":2},\"scene\":{\"xaxis\":{\"backgroundcolor\":\"#E5ECF6\",\"gridcolor\":\"white\",\"linecolor\":\"white\",\"showbackground\":true,\"ticks\":\"\",\"zerolinecolor\":\"white\",\"gridwidth\":2},\"yaxis\":{\"backgroundcolor\":\"#E5ECF6\",\"gridcolor\":\"white\",\"linecolor\":\"white\",\"showbackground\":true,\"ticks\":\"\",\"zerolinecolor\":\"white\",\"gridwidth\":2},\"zaxis\":{\"backgroundcolor\":\"#E5ECF6\",\"gridcolor\":\"white\",\"linecolor\":\"white\",\"showbackground\":true,\"ticks\":\"\",\"zerolinecolor\":\"white\",\"gridwidth\":2}},\"shapedefaults\":{\"line\":{\"color\":\"#2a3f5f\"}},\"annotationdefaults\":{\"arrowcolor\":\"#2a3f5f\",\"arrowhead\":0,\"arrowwidth\":1},\"geo\":{\"bgcolor\":\"white\",\"landcolor\":\"#E5ECF6\",\"subunitcolor\":\"white\",\"showland\":true,\"showlakes\":true,\"lakecolor\":\"white\"},\"title\":{\"x\":0.05},\"mapbox\":{\"style\":\"light\"}}},\"xaxis\":{\"rangeslider\":{\"visible\":false},\"title\":{\"text\":\"Date\"}},\"yaxis\":{\"title\":{\"text\":\"Price (USD $)\"}},\"title\":{\"text\":\"Bitcoin Price (Past 30 Days)\"}},                        {\"responsive\": true}                    ).then(function(){\n",
              "                            \n",
              "var gd = document.getElementById('8192e271-ed2c-4721-b42f-43bbe8e6c91a');\n",
              "var x = new MutationObserver(function (mutations, observer) {{\n",
              "        var display = window.getComputedStyle(gd).display;\n",
              "        if (!display || display === 'none') {{\n",
              "            console.log([gd, 'removed!']);\n",
              "            Plotly.purge(gd);\n",
              "            observer.disconnect();\n",
              "        }}\n",
              "}});\n",
              "\n",
              "// Listen for the removal of the full notebook cells\n",
              "var notebookContainer = gd.closest('#notebook-container');\n",
              "if (notebookContainer) {{\n",
              "    x.observe(notebookContainer, {childList: true});\n",
              "}}\n",
              "\n",
              "// Listen for the clearing of the current output cell\n",
              "var outputEl = gd.closest('.output');\n",
              "if (outputEl) {{\n",
              "    x.observe(outputEl, {childList: true});\n",
              "}}\n",
              "\n",
              "                        })                };                            </script>        </div>\n",
              "</body>\n",
              "</html>"
            ]
          },
          "metadata": {}
        }
      ]
    },
    {
      "cell_type": "markdown",
      "source": [
        "Request/Response Message:\n",
        "* Request/Response Start line\n",
        "* Request/Response Header\n",
        "* Request/Response Body\n",
        "\n",
        "Status code\n",
        "* 2xx success\n",
        "* 4xx fail\n",
        "\n",
        "HTTP Method\n",
        "* GET: retrieve data from the server\n",
        "* POST: submit data to server\n",
        "* PUT: updates data already on server\n",
        "* DELETE: deletes data from server"
      ],
      "metadata": {
        "id": "GN_BxzsUB7yZ"
      }
    },
    {
      "cell_type": "code",
      "source": [
        "import requests\n",
        "\n",
        "url = 'https://www.ibm.com/'\n",
        "r = requests.get(url)\n",
        "print(r.status_code)\n",
        "print(r.request.headers)\n",
        "print(r.request.body )"
      ],
      "metadata": {
        "id": "rpZgjqVvHwmS",
        "colab": {
          "base_uri": "https://localhost:8080/"
        },
        "outputId": "4f007c00-0283-4334-b3b4-1ba0267521bf"
      },
      "execution_count": 3,
      "outputs": [
        {
          "output_type": "stream",
          "name": "stdout",
          "text": [
            "200\n",
            "{'User-Agent': 'python-requests/2.32.3', 'Accept-Encoding': 'gzip, deflate', 'Accept': '*/*', 'Connection': 'keep-alive', 'Cookie': '_abck=9C0D39F4EF413FF9A772C641EC93F0D3~-1~YAAQi2vcFwahfiaUAQAAJ5MMNA2QbYC82OZqANN9BGThBTCNw86W2ich86gSIVMK3iQGmbRZCjCZa+0bpLnA3fgpaQC6qtJDpEbLUihk6X9OeMsV4JcvWfmFtagUxQ8Txy/xvJBRrFbXKQfTN+Xx2UX/Xd0KroYLoZTV97s3G0uMN/KUJjxwrFQaIsAYcJ1Pd44czzOaInHI8tlio6WXKRr1lZfZeZ+oE1COv4yb/BLUgSXd6h+k7g4hdQxEQoqQYw7ZuIWRJGfLmFHTmOwvm7sofMnmdgQIpWlAsyUh7umqfxyb1pIg7jZan13475a3ukaTWYyID4LcNeI85RweiA5BC3BQAHC+twVI+U6IccEW4yrfSwWRCtA0hGgbefvN0FXs749VHqyuLDZtRwVXRr1RyL9yI9A=~-1~-1~-1; bm_sz=398C866E2F0C0D089B2178FE65EACB7F~YAAQi2vcFwehfiaUAQAAJ5MMNBpq1iLjMbvv+EgRw3P1Vmtk7KPqeVHfGVqyNPJWGJPzAlZufN0aKKklwExEJxbmNIT0UhPyl0BmyMYi8OkEvZTAAD1f/90ZFjFZxCpqzZcTH6zDXfQjgj8bxOSGF7OpCBarJO1hfbsJVLeLSjfflr/sfwDtjObNuwfKUTu+Jvx27oJdqxT2XZkqqigt2AhcerxTfjol36TkQnbZ9wxzPnayKgOaP5dv7IkLbVSUsiKRuUC8IJoULRwilnHgnEMxlz1ShV+ASM8U+rhCT92uY1d6L5IVhF5m1An8o4yza6moSl/KwOjT6ary/gJ/yAewZsLM8f/MVHM=~3225650~4599861'}\n",
            "None\n"
          ]
        }
      ]
    },
    {
      "cell_type": "code",
      "source": [
        "header = r.headers\n",
        "header['date']\n",
        "\n",
        "r.encoding #utf-8\n",
        "r.text[0:100]"
      ],
      "metadata": {
        "colab": {
          "base_uri": "https://localhost:8080/",
          "height": 53
        },
        "id": "0WlfJ7HbC-wa",
        "outputId": "b823334e-a092-49a2-dbd9-f44f2b9af48d"
      },
      "execution_count": 7,
      "outputs": [
        {
          "output_type": "execute_result",
          "data": {
            "text/plain": [
              "'\\n<!DOCTYPE HTML>\\n<html lang=\"en\">\\n<head>\\r\\n    \\r\\n    \\r\\n    \\r\\n    \\r\\n    \\r\\n    \\r\\n    \\r\\n      \\r\\n    \\r\\n  '"
            ],
            "application/vnd.google.colaboratory.intrinsic+json": {
              "type": "string"
            }
          },
          "metadata": {},
          "execution_count": 7
        }
      ]
    },
    {
      "cell_type": "markdown",
      "source": [
        "**GET Request with URL parameters**\n",
        "\n",
        "<div class=\"alert alert-block alert-info\" style=\"margin-top: 20px\">\n",
        "         <img src=\"https://cf-courses-data.s3.us.cloud-object-storage.appdomain.cloud/IBMDeveloperSkillsNetwork-PY0101EN-SkillsNetwork/labs/Module%205/images/query_string.png\" width=\"500\" align=\"center\">\n",
        "</div>\n"
      ],
      "metadata": {
        "id": "l7uAnKgQEfTj"
      }
    },
    {
      "cell_type": "code",
      "source": [
        "url_get='http://httpbin.org/get'\n",
        "\n",
        "payload={\"name\":\"Joseph\",\"ID\":\"123\"} #The keys are the parameter names and the values are the value of the Query string.\n",
        "\n",
        "r=requests.get(url_get, params=payload)\n",
        "\n",
        "print(r.url)\n",
        "print(r.text)\n",
        "print(r.headers['Content-Type'])\n",
        "print(r.json())"
      ],
      "metadata": {
        "colab": {
          "base_uri": "https://localhost:8080/"
        },
        "id": "xRC3s_EODVe7",
        "outputId": "4ae9df96-4e7d-4b3b-f4fc-1e55dd9e7cef"
      },
      "execution_count": 10,
      "outputs": [
        {
          "output_type": "stream",
          "name": "stdout",
          "text": [
            "http://httpbin.org/get?name=Joseph&ID=123\n",
            "{\n",
            "  \"args\": {\n",
            "    \"ID\": \"123\", \n",
            "    \"name\": \"Joseph\"\n",
            "  }, \n",
            "  \"headers\": {\n",
            "    \"Accept\": \"*/*\", \n",
            "    \"Accept-Encoding\": \"gzip, deflate\", \n",
            "    \"Host\": \"httpbin.org\", \n",
            "    \"User-Agent\": \"python-requests/2.32.3\", \n",
            "    \"X-Amzn-Trace-Id\": \"Root=1-6779e093-4d9cbd67140694c732fca42e\"\n",
            "  }, \n",
            "  \"origin\": \"35.231.98.144\", \n",
            "  \"url\": \"http://httpbin.org/get?name=Joseph&ID=123\"\n",
            "}\n",
            "\n",
            "application/json\n",
            "{'args': {'ID': '123', 'name': 'Joseph'}, 'headers': {'Accept': '*/*', 'Accept-Encoding': 'gzip, deflate', 'Host': 'httpbin.org', 'User-Agent': 'python-requests/2.32.3', 'X-Amzn-Trace-Id': 'Root=1-6779e093-4d9cbd67140694c732fca42e'}, 'origin': '35.231.98.144', 'url': 'http://httpbin.org/get?name=Joseph&ID=123'}\n"
          ]
        }
      ]
    },
    {
      "cell_type": "markdown",
      "source": [
        "**POST** request sends the data in a request body"
      ],
      "metadata": {
        "id": "MnNjpQZSFeQ_"
      }
    },
    {
      "cell_type": "code",
      "source": [
        "url_post='http://httpbin.org/post'\n",
        "r_post=requests.post(url_post,data=payload)\n",
        "\n",
        "print(r_post.url)\n",
        "print(r_post.request.body)\n",
        "print(r_post.text)\n",
        "print(r_post.headers['Content-Type'])\n",
        "print(r_post.json())"
      ],
      "metadata": {
        "colab": {
          "base_uri": "https://localhost:8080/"
        },
        "id": "E-3CotShFATT",
        "outputId": "d9de7ee6-02ab-4bac-e180-9d1de0690f45"
      },
      "execution_count": 12,
      "outputs": [
        {
          "output_type": "stream",
          "name": "stdout",
          "text": [
            "http://httpbin.org/post\n",
            "name=Joseph&ID=123\n",
            "{\n",
            "  \"args\": {}, \n",
            "  \"data\": \"\", \n",
            "  \"files\": {}, \n",
            "  \"form\": {\n",
            "    \"ID\": \"123\", \n",
            "    \"name\": \"Joseph\"\n",
            "  }, \n",
            "  \"headers\": {\n",
            "    \"Accept\": \"*/*\", \n",
            "    \"Accept-Encoding\": \"gzip, deflate\", \n",
            "    \"Content-Length\": \"18\", \n",
            "    \"Content-Type\": \"application/x-www-form-urlencoded\", \n",
            "    \"Host\": \"httpbin.org\", \n",
            "    \"User-Agent\": \"python-requests/2.32.3\", \n",
            "    \"X-Amzn-Trace-Id\": \"Root=1-6779e11d-4112940f03d8eb1653abeacd\"\n",
            "  }, \n",
            "  \"json\": null, \n",
            "  \"origin\": \"35.231.98.144\", \n",
            "  \"url\": \"http://httpbin.org/post\"\n",
            "}\n",
            "\n",
            "application/json\n",
            "{'args': {}, 'data': '', 'files': {}, 'form': {'ID': '123', 'name': 'Joseph'}, 'headers': {'Accept': '*/*', 'Accept-Encoding': 'gzip, deflate', 'Content-Length': '18', 'Content-Type': 'application/x-www-form-urlencoded', 'Host': 'httpbin.org', 'User-Agent': 'python-requests/2.32.3', 'X-Amzn-Trace-Id': 'Root=1-6779e11d-4112940f03d8eb1653abeacd'}, 'json': None, 'origin': '35.231.98.144', 'url': 'http://httpbin.org/post'}\n"
          ]
        }
      ]
    },
    {
      "cell_type": "markdown",
      "source": [
        "# **HTML for Web Scraping**\n",
        "\n",
        "* Hyperlink tag\n",
        "```\n",
        "   <a href=\"http://www.ibm.com\"> IBM webpage </a>\n",
        "```\n",
        "* HTML tree\n",
        "```\n",
        "<html> -- <head> -- <title>\n",
        "       -- <body> -- <h3>, <p>...\n",
        "```\n",
        "* HTML tables\n",
        "```\n",
        "<tr>: define each table row\n",
        "<td>: define a table cell\n",
        "```\n",
        "\n",
        "**BeautifulSoup**\n",
        "\n",
        "Beautiful Soup represents HTML as a set of Tree like objects with methods used to parse the HTML.\n",
        "```\n",
        "tag_object = soup.title\n",
        "<title>Page Title</title>\n",
        "\n",
        "tag_object = soup.h3\n",
        "<h3><b id='boldest'>Lebron James</b></h3>\n",
        "<p> Salary: $ 92,000,000 </p>\n",
        "<h3> Stephen Curry</h3>\n",
        "\n",
        "tag_child = tag_object.b\n",
        "<b id='boldest'>Lebron James</b>\n",
        "\n",
        "tag_child.attrs\n",
        "{'id'='boldest'}\n",
        "\n",
        "tag_child.string\n",
        "'Lebron James'\n",
        "\n",
        "parent_tag = tag.child.parent\n",
        "<h3><b id='boldest'>Lebron James</b></h3>\n",
        "\n",
        "sibling_1 = tag_object.next_sibling\n",
        "<p> Salary: $ 92,000,000 </p>\n",
        "```"
      ],
      "metadata": {
        "id": "npxqgnA8G6tH"
      }
    },
    {
      "cell_type": "code",
      "source": [
        "%%html\n",
        "<!DOCTYPE html>\n",
        "<html>\n",
        "<head>\n",
        "<title>Page Title</title>\n",
        "</head>\n",
        "<body>\n",
        "<h3><b id='boldest'>Lebron James</b></h3>\n",
        "<p> Salary: $ 92,000,000 </p>\n",
        "<h3> Stephen Curry</h3>\n",
        "<p> Salary: $85,000, 000 </p>\n",
        "<h3> Kevin Durant </h3>\n",
        "<p> Salary: $73,200, 000</p>\n",
        "</body>\n",
        "</html>"
      ],
      "metadata": {
        "id": "2MBxKnKOJX8E"
      },
      "execution_count": null,
      "outputs": []
    },
    {
      "cell_type": "code",
      "source": [
        "#!pip install bs4\n",
        "#!pip install requests pandas html5lib\n",
        "from bs4 import BeautifulSoup\n",
        "import requests\n",
        "import pandas as pd\n",
        "\n",
        "html=\"<!DOCTYPE html><html><head><title>Page Title</title></head><body><h3><b id='boldest'>Lebron James</b></h3><p> Salary: $ 92,000,000 </p><h3> Stephen Curry</h3><p> Salary: $85,000, 000 </p><h3> Kevin Durant </h3><p> Salary: $73,200, 000</p></body></html>\"\n",
        "soup = BeautifulSoup(html, 'html5lib') # pass html into the Beautiful Soup constructor to parse a document\n",
        "print(soup.prettify())"
      ],
      "metadata": {
        "colab": {
          "base_uri": "https://localhost:8080/"
        },
        "id": "H68nLC0RFrHR",
        "outputId": "c1a6cb20-9b43-4576-af71-5bcad8aa0490"
      },
      "execution_count": 14,
      "outputs": [
        {
          "output_type": "stream",
          "name": "stdout",
          "text": [
            "<!DOCTYPE html>\n",
            "<html>\n",
            " <head>\n",
            "  <title>\n",
            "   Page Title\n",
            "  </title>\n",
            " </head>\n",
            " <body>\n",
            "  <h3>\n",
            "   <b id=\"boldest\">\n",
            "    Lebron James\n",
            "   </b>\n",
            "  </h3>\n",
            "  <p>\n",
            "   Salary: $ 92,000,000\n",
            "  </p>\n",
            "  <h3>\n",
            "   Stephen Curry\n",
            "  </h3>\n",
            "  <p>\n",
            "   Salary: $85,000, 000\n",
            "  </p>\n",
            "  <h3>\n",
            "   Kevin Durant\n",
            "  </h3>\n",
            "  <p>\n",
            "   Salary: $73,200, 000\n",
            "  </p>\n",
            " </body>\n",
            "</html>\n",
            "\n"
          ]
        }
      ]
    },
    {
      "cell_type": "code",
      "source": [
        "table=\"<table><tr><td id='flight'>Flight No</td><td>Launch site</td> <td>Payload mass</td></tr><tr> <td>1</td><td><a href='https://en.wikipedia.org/wiki/Florida'>Florida<a></td><td>300 kg</td></tr><tr><td>2</td><td><a href='https://en.wikipedia.org/wiki/Texas'>Texas</a></td><td>94 kg</td></tr><tr><td>3</td><td><a href='https://en.wikipedia.org/wiki/Florida'>Florida<a> </td><td>80 kg</td></tr></table>\"\n",
        "table_bs = BeautifulSoup(table, 'html5lib')\n",
        "table_rows=table_bs.find_all('tr')\n",
        "table_rows[0] #first row"
      ],
      "metadata": {
        "colab": {
          "base_uri": "https://localhost:8080/"
        },
        "id": "CbcM1gbCJOv6",
        "outputId": "2d43de66-064f-483f-b4e6-7c8e85e1cfcf"
      },
      "execution_count": 16,
      "outputs": [
        {
          "output_type": "execute_result",
          "data": {
            "text/plain": [
              "<tr><td id=\"flight\">Flight No</td><td>Launch site</td> <td>Payload mass</td></tr>"
            ]
          },
          "metadata": {},
          "execution_count": 16
        }
      ]
    },
    {
      "cell_type": "code",
      "source": [
        "for i,row in enumerate(table_rows):\n",
        "    print(\"row\",i)\n",
        "    cells=row.find_all('td')\n",
        "    for j,cell in enumerate(cells):\n",
        "        print('colunm',j,\"cell\",cell)"
      ],
      "metadata": {
        "colab": {
          "base_uri": "https://localhost:8080/"
        },
        "id": "E4AssS17LZJ4",
        "outputId": "c6e06fa6-25f9-4365-ef85-ddaad4778800"
      },
      "execution_count": 17,
      "outputs": [
        {
          "output_type": "stream",
          "name": "stdout",
          "text": [
            "row 0\n",
            "colunm 0 cell <td id=\"flight\">Flight No</td>\n",
            "colunm 1 cell <td>Launch site</td>\n",
            "colunm 2 cell <td>Payload mass</td>\n",
            "row 1\n",
            "colunm 0 cell <td>1</td>\n",
            "colunm 1 cell <td><a href=\"https://en.wikipedia.org/wiki/Florida\">Florida</a><a></a></td>\n",
            "colunm 2 cell <td>300 kg</td>\n",
            "row 2\n",
            "colunm 0 cell <td>2</td>\n",
            "colunm 1 cell <td><a href=\"https://en.wikipedia.org/wiki/Texas\">Texas</a></td>\n",
            "colunm 2 cell <td>94 kg</td>\n",
            "row 3\n",
            "colunm 0 cell <td>3</td>\n",
            "colunm 1 cell <td><a href=\"https://en.wikipedia.org/wiki/Florida\">Florida</a><a> </a></td>\n",
            "colunm 2 cell <td>80 kg</td>\n"
          ]
        }
      ]
    },
    {
      "cell_type": "markdown",
      "source": [
        "# **Reading different files**"
      ],
      "metadata": {
        "id": "-jsl5_3MMrGb"
      }
    },
    {
      "cell_type": "code",
      "source": [
        "# read json file\n",
        "import json\n",
        "\n",
        "with open('filename.json', 'r') as openfile:\n",
        "  json_object = json.load(openfile)"
      ],
      "metadata": {
        "id": "hD5VfhMULkrw"
      },
      "execution_count": null,
      "outputs": []
    },
    {
      "cell_type": "code",
      "source": [
        "# read XML file\n",
        "import pandas as pd\n",
        "import xml.etree.ElementTree as etree\n",
        "\n",
        "# Parse the XML file\n",
        "tree = etree.parse(\"Sample-employee-XML-file.xml\")\n",
        "\n",
        "# Get the root of the XML tree\n",
        "root = tree.getroot()\n",
        "\n",
        "# Define the columns for the DataFrame\n",
        "columns = [\"firstname\", \"lastname\", \"title\", \"division\", \"building\", \"room\"]\n",
        "\n",
        "# Initialize an empty DataFrame\n",
        "datatframe = pd.DataFrame(columns=columns)\n",
        "\n",
        "# Iterate through each node in the XML root\n",
        "for node in root:\n",
        "    # Extract text from each element\n",
        "    firstname = node.find(\"firstname\").text\n",
        "    lastname = node.find(\"lastname\").text\n",
        "    title = node.find(\"title\").text\n",
        "    division = node.find(\"division\").text\n",
        "    building = node.find(\"building\").text\n",
        "    room = node.find(\"room\").text\n",
        "\n",
        "    # Create a DataFrame for the current row\n",
        "    row_df = pd.DataFrame([[firstname, lastname, title, division, building, room]], columns=columns)\n",
        "\n",
        "    # Concatenate with the existing DataFrame\n",
        "    datatframe = pd.concat([datatframe, row_df], ignore_index=True)"
      ],
      "metadata": {
        "id": "SWwjMc9rNAME"
      },
      "execution_count": null,
      "outputs": []
    }
  ]
}